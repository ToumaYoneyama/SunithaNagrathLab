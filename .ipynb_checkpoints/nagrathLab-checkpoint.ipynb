{
 "cells": [
  {
   "cell_type": "markdown",
   "id": "9075e96b-69bd-44c7-ab21-df7bbb071753",
   "metadata": {},
   "source": [
    "# Sunitha Nagrath Lab [Title] #"
   ]
  },
  {
   "cell_type": "code",
   "execution_count": 1,
   "id": "71df8590-3611-4438-b827-d36f296d04d6",
   "metadata": {},
   "outputs": [
    {
     "name": "stdout",
     "output_type": "stream",
     "text": [
      "Requirement already satisfied: pandas in /home/tyoneyam/miniforge3/envs/jupyter_env/lib/python3.12/site-packages (2.2.3)\n",
      "Requirement already satisfied: numpy in /home/tyoneyam/miniforge3/envs/jupyter_env/lib/python3.12/site-packages (1.26.4)\n",
      "Requirement already satisfied: tensorflow in /home/tyoneyam/miniforge3/envs/jupyter_env/lib/python3.12/site-packages (2.17.0)\n",
      "Requirement already satisfied: scikit-learn in /home/tyoneyam/miniforge3/envs/jupyter_env/lib/python3.12/site-packages (1.5.2)\n",
      "Requirement already satisfied: matplotlib in /home/tyoneyam/miniforge3/envs/jupyter_env/lib/python3.12/site-packages (3.9.2)\n",
      "Requirement already satisfied: seaborn in /home/tyoneyam/miniforge3/envs/jupyter_env/lib/python3.12/site-packages (0.13.2)\n",
      "Requirement already satisfied: python-dateutil>=2.8.2 in /home/tyoneyam/miniforge3/envs/jupyter_env/lib/python3.12/site-packages (from pandas) (2.9.0)\n",
      "Requirement already satisfied: pytz>=2020.1 in /home/tyoneyam/miniforge3/envs/jupyter_env/lib/python3.12/site-packages (from pandas) (2024.2)\n",
      "Requirement already satisfied: tzdata>=2022.7 in /home/tyoneyam/miniforge3/envs/jupyter_env/lib/python3.12/site-packages (from pandas) (2024.2)\n",
      "Requirement already satisfied: absl-py>=1.0.0 in /home/tyoneyam/miniforge3/envs/jupyter_env/lib/python3.12/site-packages (from tensorflow) (2.1.0)\n",
      "Requirement already satisfied: astunparse>=1.6.0 in /home/tyoneyam/miniforge3/envs/jupyter_env/lib/python3.12/site-packages (from tensorflow) (1.6.3)\n",
      "Requirement already satisfied: flatbuffers>=24.3.25 in /home/tyoneyam/miniforge3/envs/jupyter_env/lib/python3.12/site-packages (from tensorflow) (24.3.25)\n",
      "Requirement already satisfied: gast!=0.5.0,!=0.5.1,!=0.5.2,>=0.2.1 in /home/tyoneyam/miniforge3/envs/jupyter_env/lib/python3.12/site-packages (from tensorflow) (0.6.0)\n",
      "Requirement already satisfied: google-pasta>=0.1.1 in /home/tyoneyam/miniforge3/envs/jupyter_env/lib/python3.12/site-packages (from tensorflow) (0.2.0)\n",
      "Requirement already satisfied: h5py>=3.10.0 in /home/tyoneyam/miniforge3/envs/jupyter_env/lib/python3.12/site-packages (from tensorflow) (3.12.1)\n",
      "Requirement already satisfied: libclang>=13.0.0 in /home/tyoneyam/miniforge3/envs/jupyter_env/lib/python3.12/site-packages (from tensorflow) (18.1.1)\n",
      "Requirement already satisfied: ml-dtypes<0.5.0,>=0.3.1 in /home/tyoneyam/miniforge3/envs/jupyter_env/lib/python3.12/site-packages (from tensorflow) (0.4.1)\n",
      "Requirement already satisfied: opt-einsum>=2.3.2 in /home/tyoneyam/miniforge3/envs/jupyter_env/lib/python3.12/site-packages (from tensorflow) (3.4.0)\n",
      "Requirement already satisfied: packaging in /home/tyoneyam/miniforge3/envs/jupyter_env/lib/python3.12/site-packages (from tensorflow) (24.1)\n",
      "Requirement already satisfied: protobuf!=4.21.0,!=4.21.1,!=4.21.2,!=4.21.3,!=4.21.4,!=4.21.5,<5.0.0dev,>=3.20.3 in /home/tyoneyam/miniforge3/envs/jupyter_env/lib/python3.12/site-packages (from tensorflow) (4.25.5)\n",
      "Requirement already satisfied: requests<3,>=2.21.0 in /home/tyoneyam/miniforge3/envs/jupyter_env/lib/python3.12/site-packages (from tensorflow) (2.32.3)\n",
      "Requirement already satisfied: setuptools in /home/tyoneyam/miniforge3/envs/jupyter_env/lib/python3.12/site-packages (from tensorflow) (75.1.0)\n",
      "Requirement already satisfied: six>=1.12.0 in /home/tyoneyam/miniforge3/envs/jupyter_env/lib/python3.12/site-packages (from tensorflow) (1.16.0)\n",
      "Requirement already satisfied: termcolor>=1.1.0 in /home/tyoneyam/miniforge3/envs/jupyter_env/lib/python3.12/site-packages (from tensorflow) (2.5.0)\n",
      "Requirement already satisfied: typing-extensions>=3.6.6 in /home/tyoneyam/miniforge3/envs/jupyter_env/lib/python3.12/site-packages (from tensorflow) (4.12.2)\n",
      "Requirement already satisfied: wrapt>=1.11.0 in /home/tyoneyam/miniforge3/envs/jupyter_env/lib/python3.12/site-packages (from tensorflow) (1.16.0)\n",
      "Requirement already satisfied: grpcio<2.0,>=1.24.3 in /home/tyoneyam/miniforge3/envs/jupyter_env/lib/python3.12/site-packages (from tensorflow) (1.67.0)\n",
      "Requirement already satisfied: tensorboard<2.18,>=2.17 in /home/tyoneyam/miniforge3/envs/jupyter_env/lib/python3.12/site-packages (from tensorflow) (2.17.1)\n",
      "Requirement already satisfied: keras>=3.2.0 in /home/tyoneyam/miniforge3/envs/jupyter_env/lib/python3.12/site-packages (from tensorflow) (3.6.0)\n",
      "Requirement already satisfied: scipy>=1.6.0 in /home/tyoneyam/miniforge3/envs/jupyter_env/lib/python3.12/site-packages (from scikit-learn) (1.14.1)\n",
      "Requirement already satisfied: joblib>=1.2.0 in /home/tyoneyam/miniforge3/envs/jupyter_env/lib/python3.12/site-packages (from scikit-learn) (1.4.2)\n",
      "Requirement already satisfied: threadpoolctl>=3.1.0 in /home/tyoneyam/miniforge3/envs/jupyter_env/lib/python3.12/site-packages (from scikit-learn) (3.5.0)\n",
      "Requirement already satisfied: contourpy>=1.0.1 in /home/tyoneyam/miniforge3/envs/jupyter_env/lib/python3.12/site-packages (from matplotlib) (1.3.0)\n",
      "Requirement already satisfied: cycler>=0.10 in /home/tyoneyam/miniforge3/envs/jupyter_env/lib/python3.12/site-packages (from matplotlib) (0.12.1)\n",
      "Requirement already satisfied: fonttools>=4.22.0 in /home/tyoneyam/miniforge3/envs/jupyter_env/lib/python3.12/site-packages (from matplotlib) (4.54.1)\n",
      "Requirement already satisfied: kiwisolver>=1.3.1 in /home/tyoneyam/miniforge3/envs/jupyter_env/lib/python3.12/site-packages (from matplotlib) (1.4.7)\n",
      "Requirement already satisfied: pillow>=8 in /home/tyoneyam/miniforge3/envs/jupyter_env/lib/python3.12/site-packages (from matplotlib) (11.0.0)\n",
      "Requirement already satisfied: pyparsing>=2.3.1 in /home/tyoneyam/miniforge3/envs/jupyter_env/lib/python3.12/site-packages (from matplotlib) (3.2.0)\n",
      "Requirement already satisfied: wheel<1.0,>=0.23.0 in /home/tyoneyam/miniforge3/envs/jupyter_env/lib/python3.12/site-packages (from astunparse>=1.6.0->tensorflow) (0.44.0)\n",
      "Requirement already satisfied: rich in /home/tyoneyam/miniforge3/envs/jupyter_env/lib/python3.12/site-packages (from keras>=3.2.0->tensorflow) (13.9.3)\n",
      "Requirement already satisfied: namex in /home/tyoneyam/miniforge3/envs/jupyter_env/lib/python3.12/site-packages (from keras>=3.2.0->tensorflow) (0.0.8)\n",
      "Requirement already satisfied: optree in /home/tyoneyam/miniforge3/envs/jupyter_env/lib/python3.12/site-packages (from keras>=3.2.0->tensorflow) (0.13.0)\n",
      "Requirement already satisfied: charset-normalizer<4,>=2 in /home/tyoneyam/miniforge3/envs/jupyter_env/lib/python3.12/site-packages (from requests<3,>=2.21.0->tensorflow) (3.4.0)\n",
      "Requirement already satisfied: idna<4,>=2.5 in /home/tyoneyam/miniforge3/envs/jupyter_env/lib/python3.12/site-packages (from requests<3,>=2.21.0->tensorflow) (3.10)\n",
      "Requirement already satisfied: urllib3<3,>=1.21.1 in /home/tyoneyam/miniforge3/envs/jupyter_env/lib/python3.12/site-packages (from requests<3,>=2.21.0->tensorflow) (2.2.3)\n",
      "Requirement already satisfied: certifi>=2017.4.17 in /home/tyoneyam/miniforge3/envs/jupyter_env/lib/python3.12/site-packages (from requests<3,>=2.21.0->tensorflow) (2024.8.30)\n",
      "Requirement already satisfied: markdown>=2.6.8 in /home/tyoneyam/miniforge3/envs/jupyter_env/lib/python3.12/site-packages (from tensorboard<2.18,>=2.17->tensorflow) (3.7)\n",
      "Requirement already satisfied: tensorboard-data-server<0.8.0,>=0.7.0 in /home/tyoneyam/miniforge3/envs/jupyter_env/lib/python3.12/site-packages (from tensorboard<2.18,>=2.17->tensorflow) (0.7.2)\n",
      "Requirement already satisfied: werkzeug>=1.0.1 in /home/tyoneyam/miniforge3/envs/jupyter_env/lib/python3.12/site-packages (from tensorboard<2.18,>=2.17->tensorflow) (3.0.4)\n",
      "Requirement already satisfied: MarkupSafe>=2.1.1 in /home/tyoneyam/miniforge3/envs/jupyter_env/lib/python3.12/site-packages (from werkzeug>=1.0.1->tensorboard<2.18,>=2.17->tensorflow) (3.0.2)\n",
      "Requirement already satisfied: markdown-it-py>=2.2.0 in /home/tyoneyam/miniforge3/envs/jupyter_env/lib/python3.12/site-packages (from rich->keras>=3.2.0->tensorflow) (3.0.0)\n",
      "Requirement already satisfied: pygments<3.0.0,>=2.13.0 in /home/tyoneyam/miniforge3/envs/jupyter_env/lib/python3.12/site-packages (from rich->keras>=3.2.0->tensorflow) (2.18.0)\n",
      "Requirement already satisfied: mdurl~=0.1 in /home/tyoneyam/miniforge3/envs/jupyter_env/lib/python3.12/site-packages (from markdown-it-py>=2.2.0->rich->keras>=3.2.0->tensorflow) (0.1.2)\n"
     ]
    }
   ],
   "source": [
    "# necesary installs\n",
    "\n",
    "!pip install pandas numpy tensorflow scikit-learn matplotlib seaborn"
   ]
  },
  {
   "cell_type": "markdown",
   "id": "35239a89-aa3d-4c06-bf3d-9d55f5b0d2f2",
   "metadata": {},
   "source": [
    "# 1. Data Filtering"
   ]
  },
  {
   "cell_type": "code",
   "execution_count": 2,
   "id": "0ca95d9f-d267-41a4-b652-2881339486aa",
   "metadata": {},
   "outputs": [],
   "source": [
    "## necesarry imports ##\n",
    "\n",
    "import pandas as pd\n",
    "import numpy as np\n",
    "import matplotlib.pyplot as plt\n",
    "import seaborn as sns\n",
    "from sklearn.model_selection import train_test_split\n",
    "from sklearn.preprocessing import StandardScaler\n",
    "from sklearn.impute import SimpleImputer\n",
    "from sklearn.linear_model import LogisticRegression\n",
    "from sklearn.metrics import classification_report, confusion_matrix, precision_score, recall_score, f1_score"
   ]
  },
  {
   "cell_type": "code",
   "execution_count": 3,
   "id": "60bdc02c-4aa7-49f0-b8e3-323e667e649b",
   "metadata": {},
   "outputs": [],
   "source": [
    "## open csv files ##\n",
    "\n",
    "image_number_table = pd.read_csv(\"MyExpt_Image_Number_w_file.csv\")\n",
    "qc_table = pd.read_csv(\"MyExpt_FilteredCells_with_Cell_Quality_annotation.csv\")"
   ]
  },
  {
   "cell_type": "markdown",
   "id": "b4f655c4-a2c1-4f01-abe4-c6385da27b5e",
   "metadata": {},
   "source": [
    "## Filter out B and E"
   ]
  },
  {
   "cell_type": "code",
   "execution_count": 4,
   "id": "b83155ee-baf1-4e50-879c-f8ede17ceb33",
   "metadata": {},
   "outputs": [
    {
     "name": "stdout",
     "output_type": "stream",
     "text": [
      "ImageNumber\n",
      "8      G\n",
      "9      G\n",
      "10     G\n",
      "11     G\n",
      "12     G\n",
      "      ..\n",
      "267    G\n",
      "268    G\n",
      "269    G\n",
      "270    G\n",
      "271    G\n",
      "Name: Quality, Length: 128, dtype: object\n",
      "True\n"
     ]
    }
   ],
   "source": [
    "## filter bad images ##\n",
    "\n",
    "only_g = image_number_table[image_number_table['Quality'] == 'G'].set_index('ImageNumber')\n",
    "\n",
    "# debug\n",
    "print(only_g['Quality'])\n",
    "print(only_g[only_g['Quality'] != 'G'].size == 0)"
   ]
  },
  {
   "cell_type": "code",
   "execution_count": 5,
   "id": "fea163e7-aa17-4235-91a5-21a5391a1e82",
   "metadata": {},
   "outputs": [
    {
     "name": "stdout",
     "output_type": "stream",
     "text": [
      "(5922, 127)\n",
      "   ImageNumber           FileName_DAPI           FileName_FITC  \\\n",
      "0            8  Export_B11_0007_C1.tif  Export_B11_0007_C2.tif   \n",
      "1            8  Export_B11_0007_C1.tif  Export_B11_0007_C2.tif   \n",
      "2            8  Export_B11_0007_C1.tif  Export_B11_0007_C2.tif   \n",
      "3            8  Export_B11_0007_C1.tif  Export_B11_0007_C2.tif   \n",
      "4            8  Export_B11_0007_C1.tif  Export_B11_0007_C2.tif   \n",
      "5            8  Export_B11_0007_C1.tif  Export_B11_0007_C2.tif   \n",
      "6            8  Export_B11_0007_C1.tif  Export_B11_0007_C2.tif   \n",
      "7            8  Export_B11_0007_C1.tif  Export_B11_0007_C2.tif   \n",
      "8            8  Export_B11_0007_C1.tif  Export_B11_0007_C2.tif   \n",
      "9            8  Export_B11_0007_C1.tif  Export_B11_0007_C2.tif   \n",
      "\n",
      "             FileName_RFP Quality  ObjectNumber Quality only bad  \\\n",
      "0  Export_B11_0007_C3.tif       G             1                P   \n",
      "1  Export_B11_0007_C3.tif       G             2                P   \n",
      "2  Export_B11_0007_C3.tif       G             3              NaN   \n",
      "3  Export_B11_0007_C3.tif       G             4              NaN   \n",
      "4  Export_B11_0007_C3.tif       G             5                P   \n",
      "5  Export_B11_0007_C3.tif       G             6              NaN   \n",
      "6  Export_B11_0007_C3.tif       G             7              NaN   \n",
      "7  Export_B11_0007_C3.tif       G             8              NaN   \n",
      "8  Export_B11_0007_C3.tif       G             9              NaN   \n",
      "9  Export_B11_0007_C3.tif       G            10              NaN   \n",
      "\n",
      "   AreaShape_Area  \n",
      "0            1387  \n",
      "1             298  \n",
      "2            6986  \n",
      "3            5513  \n",
      "4            1130  \n",
      "5            2676  \n",
      "6            4176  \n",
      "7             735  \n",
      "8            1885  \n",
      "9            3466  \n"
     ]
    }
   ],
   "source": [
    "## merge with QC_table ##\n",
    "\n",
    "merged_onlyg_and_qc = pd.merge(only_g, qc_table, on='ImageNumber', how='left')\n",
    "print(merged_onlyg_and_qc.shape)\n",
    "print(merged_onlyg_and_qc.iloc[:10, :8])"
   ]
  },
  {
   "cell_type": "markdown",
   "id": "47a83fbf-d2a5-460d-9a13-26ef32d2af53",
   "metadata": {},
   "source": [
    "## Model **1** for predicting P"
   ]
  },
  {
   "cell_type": "code",
   "execution_count": 6,
   "id": "247e9122-38d4-4ae7-8f77-1c6ad427aaae",
   "metadata": {},
   "outputs": [
    {
     "name": "stderr",
     "output_type": "stream",
     "text": [
      "/home/tyoneyam/miniforge3/envs/jupyter_env/lib/python3.12/site-packages/sklearn/impute/_base.py:598: UserWarning: Skipping features without any observed values: [47 48 51]. At least one non-missing value is needed for imputation with strategy='mean'.\n",
      "  warnings.warn(\n"
     ]
    },
    {
     "data": {
      "image/png": "[encoded data removed]",
      "text/plain": [
       "<Figure size 800x600 with 2 Axes>"
      ]
     },
     "metadata": {},
     "output_type": "display_data"
    },
    {
     "name": "stdout",
     "output_type": "stream",
     "text": [
      "Precision: 0.8333333333333334, Recall: 0.8333333333333334, F1-Score: 0.8333333333333334\n"
     ]
    }
   ],
   "source": [
    "## train a logistic model to determine P (poor quality pictures) ##\n",
    "\n",
    "### models could be updated to be using a more complex and accurate anomaly detection algorithm if needed ###\n",
    "\n",
    "## model 1: uses only images 76-79\n",
    "\n",
    "# train data using labeled data set (images 76 - 79)\n",
    "train_start = 76\n",
    "train_end = 79\n",
    "labeled_data = merged_onlyg_and_qc[\n",
    "    (merged_onlyg_and_qc['ImageNumber'] >= train_start) & \n",
    "    (merged_onlyg_and_qc['ImageNumber'] <= train_end)\n",
    "]\n",
    "\n",
    "# convert scientific notations to numeric values\n",
    "labeled_data.iloc[:, 7:] = labeled_data.iloc[:, 7:].apply(pd.to_numeric, errors='coerce')\n",
    "\n",
    "# X = features, y = target\n",
    "X = labeled_data.iloc[:, 7:].values # features\n",
    "y = labeled_data['Quality only bad'].values  # target\n",
    "\n",
    "# impute\n",
    "imputer = SimpleImputer(strategy='mean')\n",
    "X = imputer.fit_transform(X)\n",
    "\n",
    "# assign value for binary ('P' and one other)\n",
    "y = pd.Series(y)\n",
    "y.fillna('F', inplace=True) # F for fine quality (vs. poor quality)\n",
    "\n",
    "# split test and train\n",
    "X_train, X_test, y_train, y_test = train_test_split(X, y, test_size=0.2, random_state=42, stratify=y)\n",
    "\n",
    "# scale the features\n",
    "scaler = StandardScaler()\n",
    "X_train = scaler.fit_transform(X_train)\n",
    "X_test = scaler.transform(X_test)\n",
    "\n",
    "# train logistic model\n",
    "model1 = LogisticRegression()\n",
    "model1.fit(X_train, y_train)\n",
    "\n",
    "# predict\n",
    "y_pred = model1.predict(X_test)\n",
    "\n",
    "# compute confusion matrix using y_test (true labels for test set) and y_pred\n",
    "cm = confusion_matrix(y_test, y_pred)\n",
    "\n",
    "# Plotting the confusion matrix\n",
    "plt.figure(figsize=(8, 6))\n",
    "sns.heatmap(cm, annot=True, fmt='d', cmap='Blues', xticklabels=['F', 'P'], yticklabels=['F', 'P'])\n",
    "plt.ylabel('Actual')\n",
    "plt.xlabel('Predicted')\n",
    "plt.title('Confusion Matrix')\n",
    "plt.show()\n",
    "\n",
    "# metrics\n",
    "precision = precision_score(y_test, y_pred, pos_label='P')\n",
    "recall = recall_score(y_test, y_pred, pos_label='P')\n",
    "f1 = f1_score(y_test, y_pred, pos_label='P') # f1 score is reliable for unbalanced data sets like this one\n",
    "print(f\"Precision: {precision}, Recall: {recall}, F1-Score: {f1}\")"
   ]
  },
  {
   "cell_type": "markdown",
   "id": "8e7890eb-db97-4058-96c9-c4f744dc6a65",
   "metadata": {},
   "source": [
    "## Model **2** for predicting P"
   ]
  },
  {
   "cell_type": "code",
   "execution_count": 7,
   "id": "f68a57fe-19a9-4d51-9615-e1bca2ee0a61",
   "metadata": {},
   "outputs": [
    {
     "name": "stderr",
     "output_type": "stream",
     "text": [
      "/home/tyoneyam/miniforge3/envs/jupyter_env/lib/python3.12/site-packages/sklearn/impute/_base.py:598: UserWarning: Skipping features without any observed values: [47 48 51]. At least one non-missing value is needed for imputation with strategy='mean'.\n",
      "  warnings.warn(\n"
     ]
    },
    {
     "data": {
      "image/png": "[encoded data removed]",
      "text/plain": [
       "<Figure size 800x600 with 2 Axes>"
      ]
     },
     "metadata": {},
     "output_type": "display_data"
    },
    {
     "name": "stdout",
     "output_type": "stream",
     "text": [
      "Precision: 0.8181818181818182, Recall: 0.9, F1-Score: 0.8571428571428571\n"
     ]
    }
   ],
   "source": [
    "## model 2: uses all images that has 'quality only bad' filled\n",
    "\n",
    "# find image#s that are labeled\n",
    "image_filled = merged_onlyg_and_qc.groupby('ImageNumber')['Quality only bad'].apply(lambda x: (x == 'P').sum())\n",
    "labeled_data = merged_onlyg_and_qc[merged_onlyg_and_qc['ImageNumber'].isin(image_filled[image_filled > 0].index)]\n",
    "\n",
    "# convert scientific notations to numeric values\n",
    "labeled_data.iloc[:, 7:] = labeled_data.iloc[:, 7:].apply(pd.to_numeric, errors='coerce')\n",
    "\n",
    "# X = features, y = target\n",
    "X = labeled_data.iloc[:, 7:].values # features\n",
    "y = labeled_data['Quality only bad'].values  # target\n",
    "\n",
    "# impute\n",
    "imputer = SimpleImputer(strategy='mean')\n",
    "X = imputer.fit_transform(X)\n",
    "\n",
    "# assign value for binary ('P' and one other)\n",
    "y = pd.Series(y)\n",
    "y.fillna('F', inplace=True) # F for fine quality (vs. poor quality)\n",
    "\n",
    "# split test and train\n",
    "X_train, X_test, y_train, y_test = train_test_split(X, y, test_size=0.2, random_state=42, stratify=y)\n",
    "\n",
    "# scale the features\n",
    "scaler = StandardScaler()\n",
    "X_train = scaler.fit_transform(X_train)\n",
    "X_test = scaler.transform(X_test)\n",
    "\n",
    "# train logistic model\n",
    "model2 = LogisticRegression()\n",
    "model2.fit(X_train, y_train)\n",
    "\n",
    "# predict\n",
    "y_pred = model2.predict(X_test)\n",
    "\n",
    "# compute confusion matrix using y_test (true labels for test set) and y_pred\n",
    "cm = confusion_matrix(y_test, y_pred)\n",
    "\n",
    "# Plotting the confusion matrix\n",
    "plt.figure(figsize=(8, 6))\n",
    "sns.heatmap(cm, annot=True, fmt='d', cmap='Blues', xticklabels=['F', 'P'], yticklabels=['F', 'P'])\n",
    "plt.ylabel('Actual')\n",
    "plt.xlabel('Predicted')\n",
    "plt.title('Confusion Matrix')\n",
    "plt.show()\n",
    "\n",
    "# metrics\n",
    "precision = precision_score(y_test, y_pred, pos_label='P')\n",
    "recall = recall_score(y_test, y_pred, pos_label='P')\n",
    "f1 = f1_score(y_test, y_pred, pos_label='P') # f1 score is reliable for unbalanced data sets like this one\n",
    "print(f\"Precision: {precision}, Recall: {recall}, F1-Score: {f1}\")"
   ]
  },
  {
   "cell_type": "markdown",
   "id": "d939fe4a-6581-4616-9ff3-094d0f7b9c2e",
   "metadata": {},
   "source": [
    "## Predict all P"
   ]
  },
  {
   "cell_type": "code",
   "execution_count": 8,
   "id": "581d1a32-ace0-4b37-877d-dc5029c4305c",
   "metadata": {},
   "outputs": [
    {
     "name": "stdout",
     "output_type": "stream",
     "text": [
      "number of Ps predicted:  814\n",
      "number of Ps actualy predicted:\n",
      " 0       P\n",
      "1       P\n",
      "4       P\n",
      "7       P\n",
      "28      P\n",
      "       ..\n",
      "5866    P\n",
      "5870    P\n",
      "5874    P\n",
      "5884    P\n",
      "5887    P\n",
      "Name: Quality only bad, Length: 814, dtype: object\n"
     ]
    },
    {
     "name": "stderr",
     "output_type": "stream",
     "text": [
      "/home/tyoneyam/miniforge3/envs/jupyter_env/lib/python3.12/site-packages/sklearn/impute/_base.py:598: UserWarning: Skipping features without any observed values: [47 48 51]. At least one non-missing value is needed for imputation with strategy='mean'.\n",
      "  warnings.warn(\n"
     ]
    }
   ],
   "source": [
    "## apply model to the unlabeled rows and filter out P ##\n",
    "\n",
    "\n",
    "#### model 2 had slightly better f1 score, so use model 2\n",
    "\n",
    "unlabeled_data = merged_onlyg_and_qc\n",
    "\n",
    "# convert scientific notations to numeric values\n",
    "unlabeled_data.iloc[:, 7:] = unlabeled_data.iloc[:, 7:].apply(pd.to_numeric, errors='coerce')\n",
    "\n",
    "# X = features\n",
    "X_unlabeled = unlabeled_data.iloc[:, 7:].values\n",
    "\n",
    "# impute missing values in features\n",
    "X_unlabeled = imputer.transform(X_unlabeled)\n",
    "\n",
    "# scale the features\n",
    "X_unlabeled = scaler.transform(X_unlabeled)\n",
    "\n",
    "# predict\n",
    "predictions = model2.predict(X_unlabeled)\n",
    "\n",
    "merged_onlyg_and_qc.loc[:, 'Quality only bad'] = predictions\n",
    "\n",
    "# debug\n",
    "print(\"number of Ps predicted: \", predictions[predictions == 'P'].size)\n",
    "print(\"number of Ps actualy predicted:\\n\", merged_onlyg_and_qc[merged_onlyg_and_qc['Quality only bad'] == 'P']['Quality only bad'])"
   ]
  },
  {
   "cell_type": "markdown",
   "id": "ab9c6ee9-6d97-4041-b49f-fdc3fc5144ca",
   "metadata": {},
   "source": [
    "## Filter out P"
   ]
  },
  {
   "cell_type": "code",
   "execution_count": 13,
   "id": "5c011d09-e7a9-4c41-bfdc-efcf684b125c",
   "metadata": {},
   "outputs": [
    {
     "name": "stdout",
     "output_type": "stream",
     "text": [
      "2       F\n",
      "3       F\n",
      "5       F\n",
      "6       F\n",
      "8       F\n",
      "       ..\n",
      "5917    F\n",
      "5918    F\n",
      "5919    F\n",
      "5920    F\n",
      "5921    F\n",
      "Name: Quality only bad, Length: 5108, dtype: object\n",
      "True\n"
     ]
    }
   ],
   "source": [
    "filtered_out_ebp = merged_onlyg_and_qc[merged_onlyg_and_qc['Quality only bad'] != 'P']\n",
    "\n",
    "# debug\n",
    "print(filtered_out_ebp['Quality only bad'])\n",
    "print(filtered_out_ebp[filtered_out_ebp['Quality only bad'] == 'P'].size == 0)"
   ]
  },
  {
   "cell_type": "markdown",
   "id": "62996fae-bde0-4ed1-bd96-80bd78fb152f",
   "metadata": {},
   "source": [
    "### Code by: Yuru Chen, Touma Yoneyama"
   ]
  }
 ],
 "metadata": {
  "kernelspec": {
   "display_name": "Python 3 (ipykernel)",
   "language": "python",
   "name": "python3"
  },
  "language_info": {
   "codemirror_mode": {
    "name": "ipython",
    "version": 3
   },
   "file_extension": ".py",
   "mimetype": "text/x-python",
   "name": "python",
   "nbconvert_exporter": "python",
   "pygments_lexer": "ipython3",
   "version": "3.12.7"
  }
 },
 "nbformat": 4,
 "nbformat_minor": 5
}
