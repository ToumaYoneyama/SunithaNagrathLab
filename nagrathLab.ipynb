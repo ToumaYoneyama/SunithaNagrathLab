{
 "cells": [
  {
   "cell_type": "markdown",
   "id": "9075e96b-69bd-44c7-ab21-df7bbb071753",
   "metadata": {},
   "source": [
    "# Sunitha Nagrath Lab #"
   ]
  },
  {
   "cell_type": "code",
   "execution_count": 1,
   "id": "71df8590-3611-4438-b827-d36f296d04d6",
   "metadata": {},
   "outputs": [
    {
     "name": "stdout",
     "output_type": "stream",
     "text": [
      "Requirement already satisfied: pandas in /home/tyoneyam/miniforge3/envs/jupyter_env/lib/python3.12/site-packages (2.2.3)\n",
      "Requirement already satisfied: numpy in /home/tyoneyam/miniforge3/envs/jupyter_env/lib/python3.12/site-packages (1.26.4)\n",
      "Requirement already satisfied: tensorflow in /home/tyoneyam/miniforge3/envs/jupyter_env/lib/python3.12/site-packages (2.17.0)\n",
      "Requirement already satisfied: scikit-learn in /home/tyoneyam/miniforge3/envs/jupyter_env/lib/python3.12/site-packages (1.5.2)\n",
      "Requirement already satisfied: matplotlib in /home/tyoneyam/miniforge3/envs/jupyter_env/lib/python3.12/site-packages (3.9.2)\n",
      "Requirement already satisfied: seaborn in /home/tyoneyam/miniforge3/envs/jupyter_env/lib/python3.12/site-packages (0.13.2)\n",
      "Requirement already satisfied: joblib in /home/tyoneyam/miniforge3/envs/jupyter_env/lib/python3.12/site-packages (1.4.2)\n",
      "Requirement already satisfied: python-dateutil>=2.8.2 in /home/tyoneyam/miniforge3/envs/jupyter_env/lib/python3.12/site-packages (from pandas) (2.9.0)\n",
      "Requirement already satisfied: pytz>=2020.1 in /home/tyoneyam/miniforge3/envs/jupyter_env/lib/python3.12/site-packages (from pandas) (2024.2)\n",
      "Requirement already satisfied: tzdata>=2022.7 in /home/tyoneyam/miniforge3/envs/jupyter_env/lib/python3.12/site-packages (from pandas) (2024.2)\n",
      "Requirement already satisfied: absl-py>=1.0.0 in /home/tyoneyam/miniforge3/envs/jupyter_env/lib/python3.12/site-packages (from tensorflow) (2.1.0)\n",
      "Requirement already satisfied: astunparse>=1.6.0 in /home/tyoneyam/miniforge3/envs/jupyter_env/lib/python3.12/site-packages (from tensorflow) (1.6.3)\n",
      "Requirement already satisfied: flatbuffers>=24.3.25 in /home/tyoneyam/miniforge3/envs/jupyter_env/lib/python3.12/site-packages (from tensorflow) (24.3.25)\n",
      "Requirement already satisfied: gast!=0.5.0,!=0.5.1,!=0.5.2,>=0.2.1 in /home/tyoneyam/miniforge3/envs/jupyter_env/lib/python3.12/site-packages (from tensorflow) (0.6.0)\n",
      "Requirement already satisfied: google-pasta>=0.1.1 in /home/tyoneyam/miniforge3/envs/jupyter_env/lib/python3.12/site-packages (from tensorflow) (0.2.0)\n",
      "Requirement already satisfied: h5py>=3.10.0 in /home/tyoneyam/miniforge3/envs/jupyter_env/lib/python3.12/site-packages (from tensorflow) (3.12.1)\n",
      "Requirement already satisfied: libclang>=13.0.0 in /home/tyoneyam/miniforge3/envs/jupyter_env/lib/python3.12/site-packages (from tensorflow) (18.1.1)\n",
      "Requirement already satisfied: ml-dtypes<0.5.0,>=0.3.1 in /home/tyoneyam/miniforge3/envs/jupyter_env/lib/python3.12/site-packages (from tensorflow) (0.4.1)\n",
      "Requirement already satisfied: opt-einsum>=2.3.2 in /home/tyoneyam/miniforge3/envs/jupyter_env/lib/python3.12/site-packages (from tensorflow) (3.4.0)\n",
      "Requirement already satisfied: packaging in /home/tyoneyam/miniforge3/envs/jupyter_env/lib/python3.12/site-packages (from tensorflow) (24.1)\n",
      "Requirement already satisfied: protobuf!=4.21.0,!=4.21.1,!=4.21.2,!=4.21.3,!=4.21.4,!=4.21.5,<5.0.0dev,>=3.20.3 in /home/tyoneyam/miniforge3/envs/jupyter_env/lib/python3.12/site-packages (from tensorflow) (4.25.5)\n",
      "Requirement already satisfied: requests<3,>=2.21.0 in /home/tyoneyam/miniforge3/envs/jupyter_env/lib/python3.12/site-packages (from tensorflow) (2.32.3)\n",
      "Requirement already satisfied: setuptools in /home/tyoneyam/miniforge3/envs/jupyter_env/lib/python3.12/site-packages (from tensorflow) (75.1.0)\n",
      "Requirement already satisfied: six>=1.12.0 in /home/tyoneyam/miniforge3/envs/jupyter_env/lib/python3.12/site-packages (from tensorflow) (1.16.0)\n",
      "Requirement already satisfied: termcolor>=1.1.0 in /home/tyoneyam/miniforge3/envs/jupyter_env/lib/python3.12/site-packages (from tensorflow) (2.5.0)\n",
      "Requirement already satisfied: typing-extensions>=3.6.6 in /home/tyoneyam/miniforge3/envs/jupyter_env/lib/python3.12/site-packages (from tensorflow) (4.12.2)\n",
      "Requirement already satisfied: wrapt>=1.11.0 in /home/tyoneyam/miniforge3/envs/jupyter_env/lib/python3.12/site-packages (from tensorflow) (1.16.0)\n",
      "Requirement already satisfied: grpcio<2.0,>=1.24.3 in /home/tyoneyam/miniforge3/envs/jupyter_env/lib/python3.12/site-packages (from tensorflow) (1.67.0)\n",
      "Requirement already satisfied: tensorboard<2.18,>=2.17 in /home/tyoneyam/miniforge3/envs/jupyter_env/lib/python3.12/site-packages (from tensorflow) (2.17.1)\n",
      "Requirement already satisfied: keras>=3.2.0 in /home/tyoneyam/miniforge3/envs/jupyter_env/lib/python3.12/site-packages (from tensorflow) (3.6.0)\n",
      "Requirement already satisfied: scipy>=1.6.0 in /home/tyoneyam/miniforge3/envs/jupyter_env/lib/python3.12/site-packages (from scikit-learn) (1.14.1)\n",
      "Requirement already satisfied: threadpoolctl>=3.1.0 in /home/tyoneyam/miniforge3/envs/jupyter_env/lib/python3.12/site-packages (from scikit-learn) (3.5.0)\n",
      "Requirement already satisfied: contourpy>=1.0.1 in /home/tyoneyam/miniforge3/envs/jupyter_env/lib/python3.12/site-packages (from matplotlib) (1.3.0)\n",
      "Requirement already satisfied: cycler>=0.10 in /home/tyoneyam/miniforge3/envs/jupyter_env/lib/python3.12/site-packages (from matplotlib) (0.12.1)\n",
      "Requirement already satisfied: fonttools>=4.22.0 in /home/tyoneyam/miniforge3/envs/jupyter_env/lib/python3.12/site-packages (from matplotlib) (4.54.1)\n",
      "Requirement already satisfied: kiwisolver>=1.3.1 in /home/tyoneyam/miniforge3/envs/jupyter_env/lib/python3.12/site-packages (from matplotlib) (1.4.7)\n",
      "Requirement already satisfied: pillow>=8 in /home/tyoneyam/miniforge3/envs/jupyter_env/lib/python3.12/site-packages (from matplotlib) (11.0.0)\n",
      "Requirement already satisfied: pyparsing>=2.3.1 in /home/tyoneyam/miniforge3/envs/jupyter_env/lib/python3.12/site-packages (from matplotlib) (3.2.0)\n",
      "Requirement already satisfied: wheel<1.0,>=0.23.0 in /home/tyoneyam/miniforge3/envs/jupyter_env/lib/python3.12/site-packages (from astunparse>=1.6.0->tensorflow) (0.44.0)\n",
      "Requirement already satisfied: rich in /home/tyoneyam/miniforge3/envs/jupyter_env/lib/python3.12/site-packages (from keras>=3.2.0->tensorflow) (13.9.3)\n",
      "Requirement already satisfied: namex in /home/tyoneyam/miniforge3/envs/jupyter_env/lib/python3.12/site-packages (from keras>=3.2.0->tensorflow) (0.0.8)\n",
      "Requirement already satisfied: optree in /home/tyoneyam/miniforge3/envs/jupyter_env/lib/python3.12/site-packages (from keras>=3.2.0->tensorflow) (0.13.0)\n",
      "Requirement already satisfied: charset-normalizer<4,>=2 in /home/tyoneyam/miniforge3/envs/jupyter_env/lib/python3.12/site-packages (from requests<3,>=2.21.0->tensorflow) (3.4.0)\n",
      "Requirement already satisfied: idna<4,>=2.5 in /home/tyoneyam/miniforge3/envs/jupyter_env/lib/python3.12/site-packages (from requests<3,>=2.21.0->tensorflow) (3.10)\n",
      "Requirement already satisfied: urllib3<3,>=1.21.1 in /home/tyoneyam/miniforge3/envs/jupyter_env/lib/python3.12/site-packages (from requests<3,>=2.21.0->tensorflow) (2.2.3)\n",
      "Requirement already satisfied: certifi>=2017.4.17 in /home/tyoneyam/miniforge3/envs/jupyter_env/lib/python3.12/site-packages (from requests<3,>=2.21.0->tensorflow) (2024.8.30)\n",
      "Requirement already satisfied: markdown>=2.6.8 in /home/tyoneyam/miniforge3/envs/jupyter_env/lib/python3.12/site-packages (from tensorboard<2.18,>=2.17->tensorflow) (3.7)\n",
      "Requirement already satisfied: tensorboard-data-server<0.8.0,>=0.7.0 in /home/tyoneyam/miniforge3/envs/jupyter_env/lib/python3.12/site-packages (from tensorboard<2.18,>=2.17->tensorflow) (0.7.2)\n",
      "Requirement already satisfied: werkzeug>=1.0.1 in /home/tyoneyam/miniforge3/envs/jupyter_env/lib/python3.12/site-packages (from tensorboard<2.18,>=2.17->tensorflow) (3.0.4)\n",
      "Requirement already satisfied: MarkupSafe>=2.1.1 in /home/tyoneyam/miniforge3/envs/jupyter_env/lib/python3.12/site-packages (from werkzeug>=1.0.1->tensorboard<2.18,>=2.17->tensorflow) (3.0.2)\n",
      "Requirement already satisfied: markdown-it-py>=2.2.0 in /home/tyoneyam/miniforge3/envs/jupyter_env/lib/python3.12/site-packages (from rich->keras>=3.2.0->tensorflow) (3.0.0)\n",
      "Requirement already satisfied: pygments<3.0.0,>=2.13.0 in /home/tyoneyam/miniforge3/envs/jupyter_env/lib/python3.12/site-packages (from rich->keras>=3.2.0->tensorflow) (2.18.0)\n",
      "Requirement already satisfied: mdurl~=0.1 in /home/tyoneyam/miniforge3/envs/jupyter_env/lib/python3.12/site-packages (from markdown-it-py>=2.2.0->rich->keras>=3.2.0->tensorflow) (0.1.2)\n"
     ]
    }
   ],
   "source": [
    "# necesary installs\n",
    "\n",
    "!pip install pandas numpy tensorflow scikit-learn matplotlib seaborn joblib"
   ]
  },
  {
   "cell_type": "markdown",
   "id": "35239a89-aa3d-4c06-bf3d-9d55f5b0d2f2",
   "metadata": {},
   "source": [
    "# 1. Data Filtering"
   ]
  },
  {
   "cell_type": "code",
   "execution_count": 2,
   "id": "0ca95d9f-d267-41a4-b652-2881339486aa",
   "metadata": {},
   "outputs": [],
   "source": [
    "## necesarry imports ##\n",
    "\n",
    "import pandas as pd\n",
    "import numpy as np\n",
    "import matplotlib.pyplot as plt\n",
    "import seaborn as sns\n",
    "import joblib\n",
    "from sklearn.model_selection import train_test_split\n",
    "from sklearn.preprocessing import StandardScaler\n",
    "from sklearn.linear_model import LogisticRegression\n",
    "from sklearn.svm import OneClassSVM\n",
    "from sklearn.metrics import classification_report, confusion_matrix, precision_score, recall_score, f1_score"
   ]
  },
  {
   "cell_type": "code",
   "execution_count": 3,
   "id": "60bdc02c-4aa7-49f0-b8e3-323e667e649b",
   "metadata": {},
   "outputs": [],
   "source": [
    "## open csv files ##\n",
    "\n",
    "image_number_table = pd.read_csv(\"MyExpt_Image_Number_w_file.csv\")\n",
    "qc_table = pd.read_csv(\"MyExpt_FilteredCells_with_Cell_Quality_annotation.csv\")"
   ]
  },
  {
   "cell_type": "markdown",
   "id": "b4f655c4-a2c1-4f01-abe4-c6385da27b5e",
   "metadata": {},
   "source": [
    "## Filter out B and E"
   ]
  },
  {
   "cell_type": "code",
   "execution_count": 4,
   "id": "b83155ee-baf1-4e50-879c-f8ede17ceb33",
   "metadata": {},
   "outputs": [
    {
     "name": "stdout",
     "output_type": "stream",
     "text": [
      "7      G\n",
      "8      G\n",
      "9      G\n",
      "10     G\n",
      "11     G\n",
      "      ..\n",
      "266    G\n",
      "267    G\n",
      "268    G\n",
      "269    G\n",
      "270    G\n",
      "Name: Quality, Length: 128, dtype: object\n",
      "True\n"
     ]
    }
   ],
   "source": [
    "## filter bad images ##\n",
    "\n",
    "valid_images = image_number_table[image_number_table['Quality'] == 'G']\n",
    "\n",
    "# debug\n",
    "print(valid_images['Quality'])\n",
    "print(valid_images[valid_images['Quality'] != 'G'].size == 0)"
   ]
  },
  {
   "cell_type": "code",
   "execution_count": 5,
   "id": "fea163e7-aa17-4235-91a5-21a5391a1e82",
   "metadata": {},
   "outputs": [
    {
     "name": "stdout",
     "output_type": "stream",
     "text": [
      "(5922, 127)\n",
      "            FileName_DAPI           FileName_FITC            FileName_RFP  \\\n",
      "0  Export_B11_0007_C1.tif  Export_B11_0007_C2.tif  Export_B11_0007_C3.tif   \n",
      "1  Export_B11_0007_C1.tif  Export_B11_0007_C2.tif  Export_B11_0007_C3.tif   \n",
      "2  Export_B11_0007_C1.tif  Export_B11_0007_C2.tif  Export_B11_0007_C3.tif   \n",
      "3  Export_B11_0007_C1.tif  Export_B11_0007_C2.tif  Export_B11_0007_C3.tif   \n",
      "4  Export_B11_0007_C1.tif  Export_B11_0007_C2.tif  Export_B11_0007_C3.tif   \n",
      "5  Export_B11_0007_C1.tif  Export_B11_0007_C2.tif  Export_B11_0007_C3.tif   \n",
      "6  Export_B11_0007_C1.tif  Export_B11_0007_C2.tif  Export_B11_0007_C3.tif   \n",
      "7  Export_B11_0007_C1.tif  Export_B11_0007_C2.tif  Export_B11_0007_C3.tif   \n",
      "8  Export_B11_0007_C1.tif  Export_B11_0007_C2.tif  Export_B11_0007_C3.tif   \n",
      "9  Export_B11_0007_C1.tif  Export_B11_0007_C2.tif  Export_B11_0007_C3.tif   \n",
      "\n",
      "   ImageNumber Quality  ObjectNumber Quality only bad  AreaShape_Area  \n",
      "0            8       G             1                P            1387  \n",
      "1            8       G             2                P             298  \n",
      "2            8       G             3              NaN            6986  \n",
      "3            8       G             4              NaN            5513  \n",
      "4            8       G             5                P            1130  \n",
      "5            8       G             6              NaN            2676  \n",
      "6            8       G             7              NaN            4176  \n",
      "7            8       G             8              NaN             735  \n",
      "8            8       G             9              NaN            1885  \n",
      "9            8       G            10              NaN            3466  \n"
     ]
    }
   ],
   "source": [
    "## merge with QC_table ##\n",
    "\n",
    "valid_images = pd.merge(valid_images, qc_table, on='ImageNumber', how='left')\n",
    "print(valid_images.shape)\n",
    "print(valid_images.iloc[:10, :8])"
   ]
  },
  {
   "cell_type": "markdown",
   "id": "47a83fbf-d2a5-460d-9a13-26ef32d2af53",
   "metadata": {},
   "source": [
    "## Model **1**: Logistic Regression With Rows 76-79"
   ]
  },
  {
   "cell_type": "code",
   "execution_count": 6,
   "id": "247e9122-38d4-4ae7-8f77-1c6ad427aaae",
   "metadata": {},
   "outputs": [
    {
     "data": {
      "image/png": "[encoded data removed]",
      "text/plain": [
       "<Figure size 800x600 with 2 Axes>"
      ]
     },
     "metadata": {},
     "output_type": "display_data"
    }
   ],
   "source": [
    "## train a logistic model to determine P (poor quality pictures) ##\n",
    "\n",
    "### models could be updated to be using a more complex and accurate anomaly detection algorithm if needed ###\n",
    "\n",
    "## model 1: uses only images 76-79\n",
    "\n",
    "# train data using labeled data set (images 76 - 79)\n",
    "train_start = 76\n",
    "train_end = 79\n",
    "labeled_data = valid_images[\n",
    "    (valid_images['ImageNumber'] >= train_start) & \n",
    "    (valid_images['ImageNumber'] <= train_end)\n",
    "]\n",
    "\n",
    "# convert scientific notations to numeric values\n",
    "labeled_data.iloc[:, 7:] = labeled_data.iloc[:, 7:].apply(pd.to_numeric, errors='coerce')\n",
    "\n",
    "# X = features, y = target\n",
    "X = labeled_data.iloc[:, 7:].values # features\n",
    "y = labeled_data['Quality only bad'].values  # target\n",
    "\n",
    "# deal with empty columns (logistic regression does not take NaN values)\n",
    "nan_columns = np.any(np.isnan(X), axis=0)\n",
    "nan_indices = np.where(nan_columns)[0]\n",
    "columns_to_delete = [nan_indices]\n",
    "X = np.delete(X, columns_to_delete, axis=1)\n",
    "\n",
    "# assign value for binary ('P' and one other)\n",
    "y = pd.Series(y)\n",
    "y.fillna('F', inplace=True) # F for fine quality (vs. poor quality)\n",
    "\n",
    "# split test and train\n",
    "X_train, X_test, y_train, y_test = train_test_split(X, y, test_size=0.2, random_state=42, stratify=y)\n",
    "\n",
    "# scale the features\n",
    "scaler = StandardScaler()\n",
    "X_train = scaler.fit_transform(X_train)\n",
    "X_test = scaler.transform(X_test)\n",
    "\n",
    "# train logistic model\n",
    "model1 = LogisticRegression()\n",
    "model1.fit(X_train, y_train)\n",
    "\n",
    "# predict\n",
    "y_pred = model1.predict(X_test)\n",
    "\n",
    "# compute confusion matrix using y_test (true labels for test set) and y_pred\n",
    "cm = confusion_matrix(y_test, y_pred)\n",
    "\n",
    "# Plotting the confusion matrix\n",
    "plt.figure(figsize=(8, 6))\n",
    "sns.heatmap(cm, annot=True, fmt='d', cmap='Blues', xticklabels=['F', 'P'], yticklabels=['F', 'P'])\n",
    "plt.ylabel('Actual')\n",
    "plt.xlabel('Predicted')\n",
    "plt.title('Confusion Matrix')\n",
    "# metrics\n",
    "precision = precision_score(y_test, y_pred, pos_label='P')\n",
    "recall = recall_score(y_test, y_pred, pos_label='P')\n",
    "f1 = f1_score(y_test, y_pred, pos_label='P') # f1 score is reliable for unbalanced data sets like this one\n",
    "# add metrics to the confusion matrix png\n",
    "plt.text(0.5, -0.1, f\"Precision: {precision:.5f}\", ha='center', va='top', transform=plt.gca().transAxes, fontsize=10)\n",
    "plt.text(0.5, -0.15, f\"Recall: {recall:.5f}\", ha='center', va='top', transform=plt.gca().transAxes, fontsize=10)\n",
    "plt.text(0.5, -0.2, f\"F1 Score: {f1:.5f}\", ha='center', va='top', transform=plt.gca().transAxes, fontsize=10)\n",
    "# Save the confusion matrix to a file\n",
    "plt.savefig(\"Metrics/p_m1_confusion_matrix.png\", format='png',bbox_inches='tight')\n",
    "plt.show()"
   ]
  },
  {
   "cell_type": "markdown",
   "id": "8e7890eb-db97-4058-96c9-c4f744dc6a65",
   "metadata": {},
   "source": [
    "## Model **2**: Logistic Regression With All Labeled Images"
   ]
  },
  {
   "cell_type": "code",
   "execution_count": 7,
   "id": "f68a57fe-19a9-4d51-9615-e1bca2ee0a61",
   "metadata": {},
   "outputs": [
    {
     "data": {
      "image/png": "[encoded data removed]",
      "text/plain": [
       "<Figure size 800x600 with 2 Axes>"
      ]
     },
     "metadata": {},
     "output_type": "display_data"
    }
   ],
   "source": [
    "## model 2: uses all images that has 'quality only bad' filled\n",
    "\n",
    "def log_reg_for_detecting_p(X, y, params=None):\n",
    "    # Split test and train\n",
    "    X_train, X_test, y_train, y_test = train_test_split(X, y, test_size=0.2, random_state=42, stratify=y)\n",
    "\n",
    "    # Scale the features\n",
    "    scaler = StandardScaler()\n",
    "    X_train = scaler.fit_transform(X_train)\n",
    "    X_test = scaler.transform(X_test)\n",
    "\n",
    "    # Train logistic model with custom parameters\n",
    "    model = LogisticRegression(**params) if params else LogisticRegression(max_iter=1000, class_weight='balanced')\n",
    "    model.fit(X_train, y_train)\n",
    "\n",
    "    # Predict\n",
    "    y_pred = model.predict(X_test)\n",
    "\n",
    "    # Compute confusion matrix\n",
    "    cm = confusion_matrix(y_test, y_pred)\n",
    "\n",
    "    # Plotting the confusion matrix\n",
    "    plt.figure(figsize=(8, 6))\n",
    "    sns.heatmap(cm, annot=True, fmt='d', cmap='Blues', xticklabels=['F', 'P'], yticklabels=['F', 'P'])\n",
    "    plt.ylabel('Actual')\n",
    "    plt.xlabel('Predicted')\n",
    "    plt.title('Confusion Matrix')\n",
    "\n",
    "    # Metrics\n",
    "    precision = precision_score(y_test, y_pred, pos_label='P')\n",
    "    recall = recall_score(y_test, y_pred, pos_label='P')\n",
    "    f1 = f1_score(y_test, y_pred, pos_label='P')\n",
    "\n",
    "    # Add metrics to the confusion matrix plot\n",
    "    plt.text(0.5, -0.1, f\"Precision: {precision:.5f}\", ha='center', va='top', transform=plt.gca().transAxes, fontsize=10)\n",
    "    plt.text(0.5, -0.15, f\"Recall: {recall:.5f}\", ha='center', va='top', transform=plt.gca().transAxes, fontsize=10)\n",
    "    plt.text(0.5, -0.2, f\"F1 Score: {f1:.5f}\", ha='center', va='top', transform=plt.gca().transAxes, fontsize=10)\n",
    "\n",
    "    # Save the confusion matrix to a file\n",
    "    plt.savefig(\"Metrics/p_m2_confusion_matrix.png\", format='png', bbox_inches='tight')\n",
    "    plt.show()\n",
    "    plt.close()  # Close the figure to free memory\n",
    "\n",
    "    return model, precision, recall, f1\n",
    "\n",
    "# Model 2: uses all images that have 'quality only bad' filled\n",
    "image_filled = valid_images.groupby('ImageNumber')['Quality only bad'].apply(lambda x: (x == 'P').sum())\n",
    "labeled_data = valid_images[valid_images['ImageNumber'].isin(image_filled[image_filled > 0].index)]\n",
    "\n",
    "# Convert scientific notations to numeric values\n",
    "labeled_data.iloc[:, 7:] = labeled_data.iloc[:, 7:].apply(pd.to_numeric, errors='coerce')\n",
    "\n",
    "# X = features, y = target\n",
    "X = labeled_data.iloc[:, 7:].values  # features\n",
    "y = labeled_data['Quality only bad'].values  # target\n",
    "\n",
    "# Deal with empty columns (logistic regression does not take NaN values)\n",
    "nan_columns = np.any(np.isnan(X), axis=0)\n",
    "nan_indices = np.where(nan_columns)[0]\n",
    "X = np.delete(X, nan_indices, axis=1)\n",
    "\n",
    "# Assign value for binary ('P' and one other)\n",
    "y = pd.Series(y)\n",
    "y.fillna('F', inplace=True)  # F for fine quality (vs. poor quality)\n",
    "\n",
    "# Example usage with custom parameters\n",
    "custom_params = {\n",
    "    'C': 1.0,                # Inverse of regularization strength\n",
    "    'penalty': 'l2',         # 'l2' for Ridge\n",
    "    'solver': 'lbfgs',       # Algorithm to use\n",
    "    'max_iter': 1000,         # Maximum number of iterations\n",
    "    'class_weight': 'balanced'\n",
    "}\n",
    "\n",
    "model2, precision, recall, f1 = log_reg_for_detecting_p(X, y, params=custom_params)"
   ]
  },
  {
   "cell_type": "markdown",
   "id": "72acff1e-e7a5-44a0-8d22-5fd131a9fe0d",
   "metadata": {},
   "source": [
    "## Model **3**: One-Class SVM with Non-Linear RBF Kernel"
   ]
  },
  {
   "cell_type": "code",
   "execution_count": 8,
   "id": "941235b1-9eb7-474e-9a97-d544e54f8c2b",
   "metadata": {},
   "outputs": [
    {
     "data": {
      "image/png": "[encoded data removed]",
      "text/plain": [
       "<Figure size 800x600 with 2 Axes>"
      ]
     },
     "metadata": {},
     "output_type": "display_data"
    },
    {
     "name": "stdout",
     "output_type": "stream",
     "text": [
      "202 853\n"
     ]
    },
    {
     "data": {
      "text/plain": [
       "'\\n# Debugging\\nprint(\"Predictions for labeled data:\", predictions[labeled_indices])\\nprint(\"True labels for labeled data:\", true_labels)\\n\\n# Check lengths\\nprint(\"Length of true_labels:\", len(true_labels))\\nprint(\"Length of predictions for labeled data:\", len(predictions[labeled_indices]))\\n\\n# Unique values\\nprint(\"Unique values in predictions:\", np.unique(predictions[labeled_indices]))\\nprint(\"Unique values in true_labels:\", np.unique(true_labels))\\n\\n# Print confusion matrix\\nprint(\"Confusion Matrix:\\n\", confusion_matrix(true_labels, predictions[labeled_indices]))\\n'"
      ]
     },
     "execution_count": 8,
     "metadata": {},
     "output_type": "execute_result"
    }
   ],
   "source": [
    "# One-class svm\n",
    "# Pros:\n",
    "#     1. Works well with high-dementional data sets (datasets that has many X features)\n",
    "#     2. can do half-supervised learning\n",
    "# Cons: complex, so only works with small enough data sets (10,000 rows and 70 cols should be fine)\n",
    "\n",
    "# Retrieve labeled data\n",
    "p_count = valid_images.groupby('ImageNumber')['Quality only bad'].apply(lambda x: (x == 'P').sum())\n",
    "labeled_indices = valid_images[valid_images['ImageNumber'].isin(p_count[p_count > 0].index)].index\n",
    "\n",
    "# Separate labeled and unlabeled data\n",
    "labeled_data = valid_images.loc[labeled_indices]\n",
    "unlabeled_data = valid_images.drop(labeled_indices)\n",
    "\n",
    "# Prepare features, omit empty columns\n",
    "nan_columns = valid_images.iloc[:, 7:].isna().any()\n",
    "columns_to_delete = valid_images.columns[7:][nan_columns].tolist()\n",
    "X_labeled = labeled_data.iloc[:, 7:].drop(columns=columns_to_delete)\n",
    "X_unlabeled = unlabeled_data.iloc[:, 7:].drop(columns=columns_to_delete)\n",
    "\n",
    "# Convert scientific notations to numbers\n",
    "X_labeled = X_labeled.apply(pd.to_numeric, errors='coerce')\n",
    "X_unlabeled = X_unlabeled.apply(pd.to_numeric, errors='coerce')\n",
    "\n",
    "# Standardize the data\n",
    "scaler = StandardScaler()\n",
    "X_labeled_scaled = scaler.fit_transform(X_labeled)\n",
    "X_unlabeled_scaled = scaler.transform(X_unlabeled)\n",
    "\n",
    "# Instantiate the One-Class SVM\n",
    "model3 = OneClassSVM(kernel='rbf', gamma='scale', nu=0.05)\n",
    "\n",
    "# Fit the model on the labeled data\n",
    "model3.fit(X_labeled_scaled)\n",
    "\n",
    "# Make predictions for both labeled and unlabeled data\n",
    "predictions_labeled = model3.predict(X_labeled_scaled)  # 1 for normal, -1 for anomaly\n",
    "predictions_unlabeled = model3.predict(X_unlabeled_scaled)\n",
    "\n",
    "# Combine predictions\n",
    "predictions = np.full(len(valid_images), 1)  # Initialize as normal (1)\n",
    "predictions[labeled_indices] = predictions_labeled\n",
    "predictions[unlabeled_data.index] = predictions_unlabeled\n",
    "\n",
    "# Prepare true labels for evaluation: Convert 'P' to -1 (anomaly) and 'F' to 1 (normal)\n",
    "true_labels = np.where(labeled_data['Quality only bad'] == 'P', -1, 1)\n",
    "\n",
    "# Calculate confusion matrix for the labeled data only\n",
    "conf_matrix = confusion_matrix(true_labels, predictions[labeled_indices])\n",
    "\n",
    "# Calculate f1-score\n",
    "f1 = f1_score(true_labels, predictions[labeled_indices], pos_label=-1)\n",
    "\n",
    "# Visualize confusion matrix\n",
    "plt.figure(figsize=(8, 6))\n",
    "sns.heatmap(conf_matrix, annot=True, fmt='d', cmap='Blues', \n",
    "            xticklabels=['Normal (F)', 'Anomaly (P)'], \n",
    "            yticklabels=['Normal (F)', 'Anomaly (P)'])\n",
    "plt.xlabel('Predicted')\n",
    "plt.ylabel('Actual')\n",
    "plt.title('Confusion Matrix for One-Class SVM')\n",
    "\n",
    "# Save confusion matrix\n",
    "plt.savefig(\"Metrics/p_m3_confusion_matrix.png\", format='png', bbox_inches='tight')\n",
    "plt.text(0.5, -0.2, f\"F1 Score: {f1:.5f}\", ha='center', va='top', transform=plt.gca().transAxes, fontsize=10)\n",
    "plt.show()\n",
    "\n",
    "p_count = np.sum(predictions[labeled_indices] == -1)\n",
    "p_count = np.sum(true_labels == -1)\n",
    "total_count = np.count_nonzero(true_labels)\n",
    "print(p_count, total_count)\n",
    "\n",
    "'''\n",
    "# Debugging\n",
    "print(\"Predictions for labeled data:\", predictions[labeled_indices])\n",
    "print(\"True labels for labeled data:\", true_labels)\n",
    "\n",
    "# Check lengths\n",
    "print(\"Length of true_labels:\", len(true_labels))\n",
    "print(\"Length of predictions for labeled data:\", len(predictions[labeled_indices]))\n",
    "\n",
    "# Unique values\n",
    "print(\"Unique values in predictions:\", np.unique(predictions[labeled_indices]))\n",
    "print(\"Unique values in true_labels:\", np.unique(true_labels))\n",
    "\n",
    "# Print confusion matrix\n",
    "print(\"Confusion Matrix:\\n\", confusion_matrix(true_labels, predictions[labeled_indices]))\n",
    "'''\n"
   ]
  },
  {
   "cell_type": "markdown",
   "id": "d939fe4a-6581-4616-9ff3-094d0f7b9c2e",
   "metadata": {},
   "source": [
    "## Predict all P"
   ]
  },
  {
   "cell_type": "code",
   "execution_count": 9,
   "id": "581d1a32-ace0-4b37-877d-dc5029c4305c",
   "metadata": {},
   "outputs": [
    {
     "name": "stdout",
     "output_type": "stream",
     "text": [
      "number of Ps predicted:  1183\n",
      "number of Ps actualy predicted:\n",
      " 0       P\n",
      "1       P\n",
      "4       P\n",
      "5       P\n",
      "7       P\n",
      "       ..\n",
      "5877    P\n",
      "5884    P\n",
      "5885    P\n",
      "5887    P\n",
      "5918    P\n",
      "Name: Quality only bad, Length: 1183, dtype: object\n"
     ]
    },
    {
     "name": "stderr",
     "output_type": "stream",
     "text": [
      "/home/tyoneyam/miniforge3/envs/jupyter_env/lib/python3.12/site-packages/sklearn/base.py:493: UserWarning: X does not have valid feature names, but StandardScaler was fitted with feature names\n",
      "  warnings.warn(\n"
     ]
    }
   ],
   "source": [
    "## apply model to the unlabeled rows and filter out P ##\n",
    "\n",
    "\n",
    "#### model 2 had slightly better f1 score, so use model 2\n",
    "\n",
    "unlabeled_data = valid_images.copy()\n",
    "\n",
    "# convert scientific notations to numeric values\n",
    "unlabeled_data.iloc[:, 7:] = unlabeled_data.iloc[:, 7:].apply(pd.to_numeric, errors='coerce')\n",
    "\n",
    "# X = features\n",
    "X_unlabeled = unlabeled_data.iloc[:, 7:].values\n",
    "\n",
    "# Deal with empty columns (logistic regression does not take NaN values)\n",
    "nan_columns = np.any(np.isnan(X_unlabeled), axis=0)\n",
    "nan_indices = np.where(nan_columns)[0]\n",
    "X_unlabeled = np.delete(X_unlabeled, nan_indices, axis=1)\n",
    "\n",
    "# scale the features\n",
    "X_unlabeled = scaler.transform(X_unlabeled)\n",
    "\n",
    "# predict\n",
    "predictions = model2.predict(X_unlabeled)\n",
    "\n",
    "valid_images.loc[:, 'Quality only bad'] = predictions\n",
    "\n",
    "# debug\n",
    "print(\"number of Ps predicted: \", predictions[predictions == 'P'].size)\n",
    "print(\"number of Ps actualy predicted:\\n\", valid_images[valid_images['Quality only bad'] == 'P']['Quality only bad'])"
   ]
  },
  {
   "cell_type": "markdown",
   "id": "ab9c6ee9-6d97-4041-b49f-fdc3fc5144ca",
   "metadata": {},
   "source": [
    "## Filter out P"
   ]
  },
  {
   "cell_type": "code",
   "execution_count": 10,
   "id": "5c011d09-e7a9-4c41-bfdc-efcf684b125c",
   "metadata": {},
   "outputs": [
    {
     "name": "stdout",
     "output_type": "stream",
     "text": [
      "2       F\n",
      "3       F\n",
      "6       F\n",
      "8       F\n",
      "9       F\n",
      "       ..\n",
      "5916    F\n",
      "5917    F\n",
      "5919    F\n",
      "5920    F\n",
      "5921    F\n",
      "Name: Quality only bad, Length: 4739, dtype: object\n",
      "True\n"
     ]
    }
   ],
   "source": [
    "valid_cells = valid_images[valid_images['Quality only bad'] != 'P'] # filtering\n",
    "\n",
    "# debug\n",
    "print(valid_cells['Quality only bad'])\n",
    "print(valid_cells[valid_cells['Quality only bad'] == 'P'].size == 0)\n",
    "\n",
    "valid_cells.to_csv('filtered_out_ebp.csv')"
   ]
  },
  {
   "cell_type": "markdown",
   "id": "8dff5e03-f76c-4312-8ad3-f14fb0359b73",
   "metadata": {},
   "source": [
    "## Merge Membrane and Nuclei Features"
   ]
  },
  {
   "cell_type": "code",
   "execution_count": 11,
   "id": "31dcdc28-598f-4ea5-ac4c-e68f41477026",
   "metadata": {},
   "outputs": [
    {
     "name": "stdout",
     "output_type": "stream",
     "text": [
      "            FileName_DAPI           FileName_FITC            FileName_RFP  \\\n",
      "2  Export_B11_0007_C1.tif  Export_B11_0007_C2.tif  Export_B11_0007_C3.tif   \n",
      "3  Export_B11_0007_C1.tif  Export_B11_0007_C2.tif  Export_B11_0007_C3.tif   \n",
      "6  Export_B11_0007_C1.tif  Export_B11_0007_C2.tif  Export_B11_0007_C3.tif   \n",
      "\n",
      "   ImageNumber Quality  ObjectNumber Quality only bad Annotation  \n",
      "2            8       G             3                F          M  \n",
      "3            8       G             4                F          M  \n",
      "6            8       G             7                F          M  \n"
     ]
    }
   ],
   "source": [
    "# add annotation column\n",
    "membrane_data = valid_cells.copy()\n",
    "membrane_data.insert(7, 'Annotation', '')\n",
    "membrane_data['Annotation'] = membrane_data['FileName_DAPI'].apply(\n",
    "    lambda x: 'M' if 'B11' in x or 'C10' in x else ('E' if 'C11' in x or 'D10' in x else None)\n",
    ")\n",
    "\n",
    "print(membrane_data.iloc[:3, :8])"
   ]
  },
  {
   "cell_type": "code",
   "execution_count": 12,
   "id": "64631666-caa5-419b-9102-e932d7aff169",
   "metadata": {},
   "outputs": [
    {
     "name": "stdout",
     "output_type": "stream",
     "text": [
      "   ImageNumber  ObjectNumber Annotation  AreaShape_Area  \\\n",
      "2            8             3          M            6986   \n",
      "3            8             4          M            5513   \n",
      "6            8             7          M            4176   \n",
      "\n",
      "   AreaShape_BoundingBoxArea  \n",
      "2                      13005  \n",
      "3                      11286  \n",
      "6                       7392  \n"
     ]
    }
   ],
   "source": [
    "# drop unecessary columns\n",
    "columns_to_drop = ['FileName_DAPI', 'FileName_FITC', 'FileName_RFP', 'Quality', 'Quality only bad']\n",
    "membrane_data = membrane_data.drop(columns=columns_to_drop, axis=1)\n",
    "\n",
    "print(membrane_data.iloc[:3, :5])"
   ]
  },
  {
   "cell_type": "code",
   "execution_count": 13,
   "id": "c1a040b5-8d8f-437c-925c-52b7c4c47c96",
   "metadata": {},
   "outputs": [
    {
     "name": "stdout",
     "output_type": "stream",
     "text": [
      "   ImageNumber  ObjectNumber  Nue.AreaShape_Area  \\\n",
      "0            1             1                 447   \n",
      "1            1             2                 522   \n",
      "2            1             3                 422   \n",
      "\n",
      "   Nue.AreaShape_BoundingBoxArea  Nue.AreaShape_BoundingBoxMaximum_X  \n",
      "0                            576                                 221  \n",
      "1                            702                                1871  \n",
      "2                            546                                 281  \n",
      "   ImageNumber  ObjectNumber Annotation  Memb.AreaShape_Area  \\\n",
      "2            8             3          M                 6986   \n",
      "3            8             4          M                 5513   \n",
      "6            8             7          M                 4176   \n",
      "\n",
      "   Memb.AreaShape_BoundingBoxArea  \n",
      "2                           13005  \n",
      "3                           11286  \n",
      "6                            7392  \n"
     ]
    }
   ],
   "source": [
    "### from here, c&p from yuru's code with variable names and ranges adjusted to my code ###\n",
    "\n",
    "\n",
    "nucleus_data = pd.read_csv('MyExpt_Final_Nuclei.csv')\n",
    "\n",
    "# mod col name to decifer between nuclei and membrine features\n",
    "nucleus_data.columns = list(nucleus_data.columns[:2]) + ['Nue.' + col for col in nucleus_data.columns[2:]]\n",
    "membrane_data.columns = list(membrane_data.columns[:3]) + ['Memb.' + col for col in membrane_data.columns[3:]]\n",
    "\n",
    "print(nucleus_data.iloc[:3, :5])\n",
    "print(membrane_data.iloc[:3, :5])"
   ]
  },
  {
   "cell_type": "code",
   "execution_count": 14,
   "id": "3a08854f-d87b-4752-8bee-0545cd95075b",
   "metadata": {},
   "outputs": [
    {
     "name": "stdout",
     "output_type": "stream",
     "text": [
      "Index(['index', 'ImageNumber', 'ObjectNumber', 'Annotation',\n",
      "       'Memb.AreaShape_Area', 'Memb.AreaShape_BoundingBoxArea',\n",
      "       'Memb.AreaShape_BoundingBoxMaximum_X',\n",
      "       'Memb.AreaShape_BoundingBoxMaximum_Y',\n",
      "       'Memb.AreaShape_BoundingBoxMinimum_X',\n",
      "       'Memb.AreaShape_BoundingBoxMinimum_Y',\n",
      "       ...\n",
      "       'Memb.Location_Center_Y', 'Memb.Location_Center_Z',\n",
      "       'Memb.Mean_FilteredNuclei__Children_Cells_Count',\n",
      "       'Memb.Mean_FilteredNuclei__Distance_Centroid_FilteredCells',\n",
      "       'Memb.Mean_FilteredNuclei__Location_Center_X',\n",
      "       'Memb.Mean_FilteredNuclei__Location_Center_Y',\n",
      "       'Memb.Mean_FilteredNuclei__Location_Center_Z',\n",
      "       'Memb.Mean_FilteredNuclei__Number_Object_Number',\n",
      "       'Memb.Number_Object_Number', 'Memb.Parent_Cells'],\n",
      "      dtype='object', length=124)\n",
      "Index(['index', 'ImageNumber', 'ObjectNumber', 'Nue.AreaShape_Area',\n",
      "       'Nue.AreaShape_BoundingBoxArea', 'Nue.AreaShape_BoundingBoxMaximum_X',\n",
      "       'Nue.AreaShape_BoundingBoxMaximum_Y',\n",
      "       'Nue.AreaShape_BoundingBoxMinimum_X',\n",
      "       'Nue.AreaShape_BoundingBoxMinimum_Y', 'Nue.AreaShape_Center_X',\n",
      "       ...\n",
      "       'Nue.AreaShape_Zernike_9_1', 'Nue.AreaShape_Zernike_9_3',\n",
      "       'Nue.AreaShape_Zernike_9_5', 'Nue.AreaShape_Zernike_9_7',\n",
      "       'Nue.AreaShape_Zernike_9_9', 'Nue.Location_Center_X',\n",
      "       'Nue.Location_Center_Y', 'Nue.Location_Center_Z',\n",
      "       'Nue.Number_Object_Number', 'Nue.Parent_FilteredNuclei_'],\n",
      "      dtype='object', length=116)\n"
     ]
    }
   ],
   "source": [
    "membrane_data = membrane_data.reset_index()  # If needed\n",
    "nucleus_data = nucleus_data.reset_index()    # If needed\n",
    "\n",
    "# debug\n",
    "print(membrane_data.columns)\n",
    "print(nucleus_data.columns)"
   ]
  },
  {
   "cell_type": "code",
   "execution_count": 15,
   "id": "a3865f2c-3330-42e1-a4d8-cdc0df03ce92",
   "metadata": {},
   "outputs": [
    {
     "name": "stdout",
     "output_type": "stream",
     "text": [
      "   ImageNumber  ObjectNumber Annotation  Memb.AreaShape_Area  \\\n",
      "0            8             3          M                 6986   \n",
      "1            8             4          M                 5513   \n",
      "2            8             7          M                 4176   \n",
      "3            8             9          M                 1885   \n",
      "4            8            10          M                 3466   \n",
      "\n",
      "   Memb.AreaShape_BoundingBoxArea  Memb.AreaShape_BoundingBoxMaximum_X  \\\n",
      "0                           13005                                  641   \n",
      "1                           11286                                 1899   \n",
      "2                            7392                                 1694   \n",
      "3                            3132                                   93   \n",
      "4                            5250                                  675   \n",
      "\n",
      "   Memb.AreaShape_BoundingBoxMaximum_Y  Memb.AreaShape_BoundingBoxMinimum_X  \\\n",
      "0                                  144                                  488   \n",
      "1                                  179                                 1800   \n",
      "2                                  222                                 1606   \n",
      "3                                  272                                   35   \n",
      "4                                  302                                  605   \n",
      "\n",
      "   Memb.AreaShape_BoundingBoxMinimum_Y  Memb.AreaShape_Center_X  ...  \\\n",
      "0                                   59               567.689379  ...   \n",
      "1                                   65              1848.053691  ...   \n",
      "2                                  138              1649.891044  ...   \n",
      "3                                  218                64.257294  ...   \n",
      "4                                  227               639.670225  ...   \n",
      "\n",
      "   Nue.AreaShape_Zernike_9_1  Nue.AreaShape_Zernike_9_3  \\\n",
      "0                   0.009705                   0.003039   \n",
      "1                   0.009827                   0.008047   \n",
      "2                   0.003373                   0.007250   \n",
      "3                   0.009747                   0.005128   \n",
      "4                   0.006366                   0.015359   \n",
      "\n",
      "   Nue.AreaShape_Zernike_9_5  Nue.AreaShape_Zernike_9_7  \\\n",
      "0                   0.002699                   0.006509   \n",
      "1                   0.001718                   0.002752   \n",
      "2                   0.010370                   0.008669   \n",
      "3                   0.005040                   0.005699   \n",
      "4                   0.007921                   0.007910   \n",
      "\n",
      "   Nue.AreaShape_Zernike_9_9  Nue.Location_Center_X  Nue.Location_Center_Y  \\\n",
      "0                   0.003807             626.699443              86.239332   \n",
      "1                   0.000142            1845.711767             126.542530   \n",
      "2                   0.002986            1650.800563             182.056312   \n",
      "3                   0.003337              60.634588             236.607815   \n",
      "4                   0.004995             638.896226             257.339623   \n",
      "\n",
      "   Nue.Location_Center_Z  Nue.Number_Object_Number  Nue.Parent_FilteredNuclei_  \n",
      "0                      0                         3                           3  \n",
      "1                      0                         4                           4  \n",
      "2                      0                         7                           7  \n",
      "3                      0                         9                           9  \n",
      "4                      0                        10                          10  \n",
      "\n",
      "[5 rows x 237 columns]\n"
     ]
    }
   ],
   "source": [
    "# merge (make sure to make membrane_data the LEFT table since we only need valid cells)\n",
    "final_combined_data = pd.merge(membrane_data, nucleus_data, \n",
    "                         on=['ImageNumber', 'ObjectNumber'],  # 确保右侧也正确命名\n",
    "                         how='left').drop('index_x', axis=1)\n",
    "\n",
    "print(final_combined_data.head())\n",
    "final_combined_data.to_csv('Combined_Data.csv', index=False)"
   ]
  },
  {
   "cell_type": "markdown",
   "id": "6fd81740-7474-4ba9-8808-b2bcfa8b05c1",
   "metadata": {},
   "source": [
    "# Train Model for EM Detection"
   ]
  },
  {
   "cell_type": "markdown",
   "id": "82673001-c291-4144-91a5-cae7af836d60",
   "metadata": {},
   "source": [
    "## Model 1: Logistic Regression (Yuru's Example Code)"
   ]
  },
  {
   "cell_type": "code",
   "execution_count": 16,
   "id": "5c13751f-ff1f-415b-b098-3506b29c7c1d",
   "metadata": {},
   "outputs": [
    {
     "data": {
      "image/png": "[encoded data removed]",
      "text/plain": [
       "<Figure size 800x600 with 2 Axes>"
      ]
     },
     "metadata": {},
     "output_type": "display_data"
    }
   ],
   "source": [
    "def log_reg_for_em(X, y, params=None):\n",
    "    # Split test and train sets\n",
    "    X_train, X_test, y_train, y_test = train_test_split(X, y, test_size=0.2, random_state=42, stratify=y)\n",
    "\n",
    "    # Scale the features\n",
    "    scaler = StandardScaler()\n",
    "    X_train = scaler.fit_transform(X_train)\n",
    "    X_test = scaler.transform(X_test)\n",
    "\n",
    "    # Train logistic regression model with custom parameters\n",
    "    model = LogisticRegression(**params) if params else LogisticRegression(max_iter=1000, class_weight='balanced')\n",
    "    model.fit(X_train, y_train)\n",
    "\n",
    "    # Make predictions\n",
    "    y_pred = model.predict(X_test)\n",
    "    \n",
    "    # Compute the confusion matrix\n",
    "    cm = confusion_matrix(y_test, y_pred, labels=['E', 'M'])\n",
    "\n",
    "    # Plotting the confusion matrix\n",
    "    plt.figure(figsize=(8, 6))\n",
    "    sns.heatmap(cm, annot=True, fmt='d', cmap='Blues', xticklabels=['E', 'M'], yticklabels=['E', 'M'])\n",
    "    plt.ylabel('Actual')\n",
    "    plt.xlabel('Predicted')\n",
    "    plt.title('Confusion Matrix')\n",
    "\n",
    "    # Calculate precision, recall, and F1 score for each class\n",
    "    precision_e = precision_score(y_test, y_pred, pos_label='E', average='binary')\n",
    "    recall_e = recall_score(y_test, y_pred, pos_label='E', average='binary')\n",
    "    f1_e = f1_score(y_test, y_pred, pos_label='E', average='binary')\n",
    "\n",
    "    # Display metrics for 'E' state in the plot\n",
    "    plt.text(0.5, -0.1, f\"Precision (E): {precision_e:.5f}\", ha='center', va='top', transform=plt.gca().transAxes, fontsize=10)\n",
    "    plt.text(0.5, -0.15, f\"Recall (E): {recall_e:.5f}\", ha='center', va='top', transform=plt.gca().transAxes, fontsize=10)\n",
    "    plt.text(0.5, -0.2, f\"F1 Score (E): {f1_e:.5f}\", ha='center', va='top', transform=plt.gca().transAxes, fontsize=10)\n",
    "\n",
    "    # Calculate metrics for 'M' state\n",
    "    precision_m = precision_score(y_test, y_pred, pos_label='M', average='binary')\n",
    "    recall_m = recall_score(y_test, y_pred, pos_label='M', average='binary')\n",
    "    f1_m = f1_score(y_test, y_pred, pos_label='M', average='binary')\n",
    "\n",
    "    # Display metrics for 'M' state in the plot\n",
    "    plt.text(0.5, -0.25, f\"Precision (M): {precision_m:.5f}\", ha='center', va='top', transform=plt.gca().transAxes, fontsize=10)\n",
    "    plt.text(0.5, -0.3, f\"Recall (M): {recall_m:.5f}\", ha='center', va='top', transform=plt.gca().transAxes, fontsize=10)\n",
    "    plt.text(0.5, -0.35, f\"F1 Score (M): {f1_m:.5f}\", ha='center', va='top', transform=plt.gca().transAxes, fontsize=10)\n",
    "\n",
    "    # Save the confusion matrix plot\n",
    "    plt.savefig(\"Metrics/em_m1_confusion_matrix.png\", format='png', bbox_inches='tight')\n",
    "    plt.show()\n",
    "    plt.close()  # Free memory by closing figure\n",
    "\n",
    "    return model, (precision_e, recall_e, f1_e), (precision_m, recall_m, f1_m)\n",
    "\n",
    "# X and y\n",
    "X = final_combined_data.iloc[:, 5:].dropna(axis=1)\n",
    "y = final_combined_data[\"Annotation\"]\n",
    "\n",
    "# use def: train_and_evaluate_logistic_regression\n",
    "custom_params = {\n",
    "    'C': 1.0,                # Inverse of regularization strength\n",
    "    'penalty': 'l2',         # 'l2' for Ridge\n",
    "    'solver': 'lbfgs',       # Algorithm to use\n",
    "    'max_iter': 1000,         # Maximum number of iterations\n",
    "    'class_weight': 'balanced'\n",
    "}\n",
    "\n",
    "em_model1, (precision_e, recall_e, f1_e), (precision_m, recall_m, f1_m) = log_reg_for_em(X, y, params=custom_params)"
   ]
  },
  {
   "cell_type": "markdown",
   "id": "9efd557f-d57a-4c50-bfac-fe6deb80329b",
   "metadata": {},
   "source": [
    "## Model 2: Loaded Yuru's Model"
   ]
  },
  {
   "cell_type": "code",
   "execution_count": 17,
   "id": "da7e95e6-9491-4ba5-a25c-e936c1f89871",
   "metadata": {},
   "outputs": [
    {
     "name": "stdout",
     "output_type": "stream",
     "text": [
      "[ True  True  True  True  True  True  True  True  True  True  True  True\n",
      "  True  True  True  True  True  True  True  True  True  True  True  True\n",
      "  True  True  True  True  True  True  True  True  True  True  True  True\n",
      "  True  True  True  True  True  True  True  True  True  True  True  True\n",
      "  True  True  True  True  True  True  True  True  True  True  True  True\n",
      "  True  True  True  True  True  True  True  True  True  True  True  True\n",
      "  True  True  True  True  True  True  True  True  True  True  True  True\n",
      "  True  True  True  True  True  True  True  True  True  True  True  True\n",
      "  True  True  True  True  True  True  True  True  True  True  True  True\n",
      "  True  True  True  True  True]\n"
     ]
    }
   ],
   "source": [
    "# before applying Yuru's model, match my dataset's features to Yuru's\n",
    "\n",
    "yuru_data_set = pd.read_csv(\"yuru_final_combined_data.csv\")\n",
    "yuru_input = yuru_data_set.filter(regex=r'^(Neu\\.|Memb\\.)')\n",
    "my_input = final_combined_data.filter(regex=r'^(Neu\\.|Memb\\.)')\n",
    "\n",
    "my_input_reordered = my_input[yuru_input.columns]\n",
    "\n",
    "print(my_input_reordered.columns == yuru_input.columns)"
   ]
  },
  {
   "cell_type": "code",
   "execution_count": 18,
   "id": "773955c8-9983-4f88-af9d-ee58a1d503b8",
   "metadata": {},
   "outputs": [
    {
     "name": "stderr",
     "output_type": "stream",
     "text": [
      "/home/tyoneyam/miniforge3/envs/jupyter_env/lib/python3.12/site-packages/sklearn/base.py:376: InconsistentVersionWarning: Trying to unpickle estimator LogisticRegression from version 1.2.2 when using version 1.5.2. This might lead to breaking code or invalid results. Use at your own risk. For more info please refer to:\n",
      "https://scikit-learn.org/stable/model_persistence.html#security-maintainability-limitations\n",
      "  warnings.warn(\n",
      "/home/tyoneyam/miniforge3/envs/jupyter_env/lib/python3.12/site-packages/sklearn/base.py:376: InconsistentVersionWarning: Trying to unpickle estimator StandardScaler from version 1.2.2 when using version 1.5.2. This might lead to breaking code or invalid results. Use at your own risk. For more info please refer to:\n",
      "https://scikit-learn.org/stable/model_persistence.html#security-maintainability-limitations\n",
      "  warnings.warn(\n"
     ]
    }
   ],
   "source": [
    "# load pkls\n",
    "# 加载模型\n",
    "loaded_model = joblib.load('100824logistic_regression_model.pkl')\n",
    "\n",
    "# 加载标准化器\n",
    "loaded_scaler = joblib.load('100824scaler.pkl')"
   ]
  },
  {
   "cell_type": "code",
   "execution_count": 19,
   "id": "2c56300c-2cdc-4abd-b1f7-f743efe7c820",
   "metadata": {},
   "outputs": [
    {
     "name": "stdout",
     "output_type": "stream",
     "text": [
      "Features in scaler but missing in input: set()\n",
      "Features in input but missing in scaler: {'Memb.AreaShape_NormalizedMoment_1_0', 'Memb.AreaShape_NormalizedMoment_0_0', 'Memb.Location_Center_Z', 'Memb.AreaShape_BoundingBoxMinimum_X', 'Memb.AreaShape_BoundingBoxMinimum_Y', 'Memb.Parent_Cells', 'Memb.AreaShape_BoundingBoxMaximum_X', 'Memb.AreaShape_BoundingBoxMaximum_Y', 'Memb.AreaShape_NormalizedMoment_0_1', 'Memb.Number_Object_Number', 'Memb.AreaShape_EulerNumber'}\n",
      "[ True  True  True  True  True  True  True  True  True  True  True  True\n",
      "  True  True  True  True  True  True  True  True  True  True  True  True\n",
      "  True  True  True  True  True  True  True  True  True  True  True  True\n",
      "  True  True  True  True  True  True  True  True  True  True  True  True\n",
      "  True  True  True  True  True  True  True  True  True  True  True  True\n",
      "  True  True  True  True  True  True  True  True  True  True  True  True\n",
      "  True  True  True  True  True  True  True  True  True  True  True  True\n",
      "  True  True  True  True  True  True  True  True  True  True  True  True\n",
      "  True  True  True  True  True  True]\n"
     ]
    }
   ],
   "source": [
    "# match my_input to scalar input\n",
    "\n",
    "# Get columns in scaler but not in reordered input\n",
    "missing_in_input = set(loaded_scaler.feature_names_in_) - set(my_input_reordered.columns)\n",
    "# Get columns in reordered input but not in scaler\n",
    "extra_in_input = set(my_input_reordered.columns) - set(loaded_scaler.feature_names_in_)\n",
    "\n",
    "print(\"Features in scaler but missing in input:\", missing_in_input)\n",
    "print(\"Features in input but missing in scaler:\", extra_in_input)\n",
    "\n",
    "my_input_reordered = my_input_reordered.drop(columns=list(extra_in_input), axis=1)\n",
    "\n",
    "print(loaded_scaler.feature_names_in_ == my_input_reordered.columns)"
   ]
  },
  {
   "cell_type": "code",
   "execution_count": 20,
   "id": "43815589-a0e4-42c1-a0bc-15da30238405",
   "metadata": {},
   "outputs": [
    {
     "name": "stderr",
     "output_type": "stream",
     "text": [
      "/home/tyoneyam/miniforge3/envs/jupyter_env/lib/python3.12/site-packages/sklearn/base.py:493: UserWarning: X does not have valid feature names, but StandardScaler was fitted with feature names\n",
      "  warnings.warn(\n"
     ]
    },
    {
     "data": {
      "image/png": "[encoded data removed]",
      "text/plain": [
       "<Figure size 800x600 with 2 Axes>"
      ]
     },
     "metadata": {},
     "output_type": "display_data"
    }
   ],
   "source": [
    "# prepare X and y\n",
    "X = final_combined_data[my_input_reordered.columns].values\n",
    "\n",
    "# 重新使用标准化后的数据进行预测\n",
    "X_scaled = loaded_scaler.transform(X)\n",
    "y_pred_loaded = loaded_model.predict(X_scaled)\n",
    "\n",
    "# Compute the confusion matrix\n",
    "cell_treatments = final_combined_data['Annotation'].values\n",
    "cm = confusion_matrix(cell_treatments, y_pred_loaded, labels=['E', 'M'])\n",
    "\n",
    "# Plotting the confusion matrix\n",
    "plt.figure(figsize=(8, 6))\n",
    "sns.heatmap(cm, annot=True, fmt='d', cmap='Blues', xticklabels=['E', 'M'], yticklabels=['E', 'M'])\n",
    "plt.ylabel('Treatment')\n",
    "plt.xlabel('Prediction')\n",
    "plt.title('Cell Treatment vs. Prediction')\n",
    "\n",
    "# Calculate precision, recall, and F1 score for each class\n",
    "precision_e = precision_score(cell_treatments, y_pred_loaded, pos_label='E', average='binary')\n",
    "recall_e = recall_score(cell_treatments, y_pred_loaded, pos_label='E', average='binary')\n",
    "f1_e = f1_score(cell_treatments, y_pred_loaded, pos_label='E', average='binary')\n",
    "\n",
    "# Display metrics for 'E' state in the plot\n",
    "plt.text(0.5, -0.1, f\"Precision (E): {precision_e:.5f}\", ha='center', va='top', transform=plt.gca().transAxes, fontsize=10)\n",
    "plt.text(0.5, -0.15, f\"Recall (E): {recall_e:.5f}\", ha='center', va='top', transform=plt.gca().transAxes, fontsize=10)\n",
    "plt.text(0.5, -0.2, f\"F1 Score (E): {f1_e:.5f}\", ha='center', va='top', transform=plt.gca().transAxes, fontsize=10)\n",
    "\n",
    "# Calculate metrics for 'M' state\n",
    "precision_m = precision_score(cell_treatments, y_pred_loaded, pos_label='M', average='binary')\n",
    "recall_m = recall_score(cell_treatments, y_pred_loaded, pos_label='M', average='binary')\n",
    "f1_m = f1_score(cell_treatments, y_pred_loaded, pos_label='M', average='binary')\n",
    "\n",
    "# Display metrics for 'M' state in the plot\n",
    "plt.text(0.5, -0.25, f\"Precision (M): {precision_m:.5f}\", ha='center', va='top', transform=plt.gca().transAxes, fontsize=10)\n",
    "plt.text(0.5, -0.3, f\"Recall (M): {recall_m:.5f}\", ha='center', va='top', transform=plt.gca().transAxes, fontsize=10)\n",
    "plt.text(0.5, -0.35, f\"F1 Score (M): {f1_m:.5f}\", ha='center', va='top', transform=plt.gca().transAxes, fontsize=10)\n",
    "\n",
    "# Save the confusion matrix plot\n",
    "plt.savefig(\"Metrics/em_m2_treatment_vs_prediction_confusion_matrix.png\", format='png', bbox_inches='tight')\n",
    "plt.show()\n",
    "plt.close()  # Free memory by closing figure"
   ]
  },
  {
   "cell_type": "markdown",
   "id": "6822b143-83a2-4adf-ac2a-c41244a82edf",
   "metadata": {},
   "source": [
    "## Calculate EM Score"
   ]
  },
  {
   "cell_type": "code",
   "execution_count": 21,
   "id": "40852126-f497-4132-b804-2a8fc46f42be",
   "metadata": {},
   "outputs": [
    {
     "name": "stdout",
     "output_type": "stream",
     "text": [
      "      ImageNumber  ObjectNumber  EM_Score Predicted_Annotation Treatment\n",
      "0               8             3  0.027104                    E         M\n",
      "1               8             4  0.061170                    E         M\n",
      "2               8             7  0.037094                    E         M\n",
      "3               8             9  0.000466                    E         M\n",
      "4               8            10  0.000202                    E         M\n",
      "...           ...           ...       ...                  ...       ...\n",
      "4734          271            27  0.788423                    M         E\n",
      "4735          271            28  0.021857                    E         E\n",
      "4736          271            30  0.001107                    E         E\n",
      "4737          271            31  0.111401                    E         E\n",
      "4738          271            32  0.010424                    E         E\n",
      "\n",
      "[4739 rows x 5 columns]\n"
     ]
    }
   ],
   "source": [
    "# calculate EM score\n",
    "y_probs = loaded_model.predict_proba(X_scaled)[:, 1]  # 取 E 类别的概率\n",
    "A = pd.DataFrame(final_combined_data)\n",
    "A['EM_Score'] = y_probs\n",
    "# predicted result\n",
    "A['Predicted_Annotation'] = y_pred_loaded\n",
    "# treatment\n",
    "A['Treatment'] = final_combined_data['Annotation']\n",
    "columns_to_consider = ['ImageNumber', 'ObjectNumber', 'EM_Score', 'Predicted_Annotation', 'Treatment']\n",
    "print(A[columns_to_consider])\n",
    "A[columns_to_consider].to_csv('logical_test_data_with_scores.csv', index=False)"
   ]
  },
  {
   "cell_type": "code",
   "execution_count": 22,
   "id": "0c58beac-b5b4-4ffc-8419-103f1988f780",
   "metadata": {},
   "outputs": [
    {
     "data": {
      "image/png": "[encoded data removed]",
      "text/plain": [
       "<Figure size 1000x600 with 1 Axes>"
      ]
     },
     "metadata": {},
     "output_type": "display_data"
    },
    {
     "data": {
      "text/plain": [
       "'\\n## Scatterplot\\n\\n# Set colors for the annotations\\ncolors = [\\'green\\' if label == \\'M\\' else \\'blue\\' for label in A[\\'True_Annotation\\'][:min_length]]\\n\\n# Plot scatter plot\\nplt.figure(figsize=(8, 6))\\nplt.scatter(m_scores, e_scores, c=colors, alpha=0.7, edgecolor=\\'k\\')\\nplt.title(\\'Scatter Plot of EM_Score (M) vs EM_Score (E)\\')\\nplt.xlabel(\\'EM_Score (M)\\')\\nplt.ylabel(\\'EM_Score (E)\\')\\nplt.grid(True)\\n# save plot\\nplt.savefig(\"Metrics/em_score_scatter_plot.png\", format=\\'png\\', bbox_inches=\\'tight\\')\\n# Show the plot\\nplt.show()\\nplt.close()\\n'"
      ]
     },
     "execution_count": 22,
     "metadata": {},
     "output_type": "execute_result"
    }
   ],
   "source": [
    "# Visualize EM Score (Histogram and Scatterplot)\n",
    "\n",
    "## Histogram\n",
    "\n",
    "# Separate data based on the True_label being 'E' or 'M'\n",
    "e_scores = A[A['Predicted_Annotation'] == 'E']['EM_Score']\n",
    "m_scores = A[A['Predicted_Annotation'] == 'M']['EM_Score']\n",
    "# Create the histograms\n",
    "plt.figure(figsize=(10,6))\n",
    "plt.hist(e_scores, bins=10, alpha=0.5, label='E', color='blue')\n",
    "plt.hist(m_scores, bins=10, alpha=0.5, label='M', color='green')\n",
    "# Add titles and labels\n",
    "plt.title('EM Score Histogram for True Labels E and M')\n",
    "plt.xlabel('EM Score')\n",
    "plt.ylabel('Frequency')\n",
    "# Add a legend\n",
    "plt.legend()\n",
    "# save plot\n",
    "plt.savefig(\"Metrics/em_score_histogram.png\", format='png', bbox_inches='tight')\n",
    "# Show the plot\n",
    "plt.show()\n",
    "plt.close()\n",
    "\n",
    "'''\n",
    "## Scatterplot\n",
    "\n",
    "# Set colors for the annotations\n",
    "colors = ['green' if label == 'M' else 'blue' for label in A['True_Annotation'][:min_length]]\n",
    "\n",
    "# Plot scatter plot\n",
    "plt.figure(figsize=(8, 6))\n",
    "plt.scatter(m_scores, e_scores, c=colors, alpha=0.7, edgecolor='k')\n",
    "plt.title('Scatter Plot of EM_Score (M) vs EM_Score (E)')\n",
    "plt.xlabel('EM_Score (M)')\n",
    "plt.ylabel('EM_Score (E)')\n",
    "plt.grid(True)\n",
    "# save plot\n",
    "plt.savefig(\"Metrics/em_score_scatter_plot.png\", format='png', bbox_inches='tight')\n",
    "# Show the plot\n",
    "plt.show()\n",
    "plt.close()\n",
    "'''"
   ]
  },
  {
   "cell_type": "markdown",
   "id": "8a376ab3-1aae-44a0-a51d-6b4d2abc6ccc",
   "metadata": {},
   "source": [
    "# Adjusting the Model"
   ]
  },
  {
   "cell_type": "markdown",
   "id": "09619491-d3da-48f6-97a0-3f93245cf37e",
   "metadata": {},
   "source": [
    "## PCA"
   ]
  },
  {
   "cell_type": "markdown",
   "id": "46520a8a-f429-4e74-8a43-f04cd010a012",
   "metadata": {},
   "source": [
    "### Get E and M annotations on the original data"
   ]
  },
  {
   "cell_type": "code",
   "execution_count": 49,
   "id": "b1fdf98f-e8b9-4a93-9259-c9cf249e68b2",
   "metadata": {},
   "outputs": [
    {
     "name": "stderr",
     "output_type": "stream",
     "text": [
      "/home/tyoneyam/miniforge3/envs/jupyter_env/lib/python3.12/site-packages/sklearn/base.py:376: InconsistentVersionWarning: Trying to unpickle estimator LogisticRegression from version 1.2.2 when using version 1.5.2. This might lead to breaking code or invalid results. Use at your own risk. For more info please refer to:\n",
      "https://scikit-learn.org/stable/model_persistence.html#security-maintainability-limitations\n",
      "  warnings.warn(\n",
      "/home/tyoneyam/miniforge3/envs/jupyter_env/lib/python3.12/site-packages/sklearn/base.py:376: InconsistentVersionWarning: Trying to unpickle estimator StandardScaler from version 1.2.2 when using version 1.5.2. This might lead to breaking code or invalid results. Use at your own risk. For more info please refer to:\n",
      "https://scikit-learn.org/stable/model_persistence.html#security-maintainability-limitations\n",
      "  warnings.warn(\n"
     ]
    }
   ],
   "source": [
    "# load data,model,scalar\n",
    "yuru_data_set = pd.read_csv(\"yuru_final_combined_data.csv\")\n",
    "loaded_model = joblib.load('100824logistic_regression_model.pkl')\n",
    "loaded_scaler = joblib.load('100824scaler.pkl')"
   ]
  },
  {
   "cell_type": "code",
   "execution_count": 53,
   "id": "0cb12414-d1eb-445d-994e-a5a2008c4559",
   "metadata": {},
   "outputs": [
    {
     "name": "stdout",
     "output_type": "stream",
     "text": [
      "Features in scaler but missing in input: set()\n",
      "Features in input but missing in scaler: {'Memb.AreaShape_NormalizedMoment_1_0', 'Memb.AreaShape_NormalizedMoment_0_0', 'Memb.Location_Center_Z', 'Memb.AreaShape_BoundingBoxMinimum_X', 'Memb.AreaShape_BoundingBoxMinimum_Y', 'Memb.Parent_Cells', 'Memb.AreaShape_BoundingBoxMaximum_X', 'Memb.AreaShape_BoundingBoxMaximum_Y', 'Memb.AreaShape_NormalizedMoment_0_1', 'Memb.Number_Object_Number', 'Memb.AreaShape_EulerNumber'}\n",
      "[ True  True  True  True  True  True  True  True  True  True  True  True\n",
      "  True  True  True  True  True  True  True  True  True  True  True  True\n",
      "  True  True  True  True  True  True  True  True  True  True  True  True\n",
      "  True  True  True  True  True  True  True  True  True  True  True  True\n",
      "  True  True  True  True  True  True  True  True  True  True  True  True\n",
      "  True  True  True  True  True  True  True  True  True  True  True  True\n",
      "  True  True  True  True  True  True  True  True  True  True  True  True\n",
      "  True  True  True  True  True  True  True  True  True  True  True  True\n",
      "  True  True  True  True  True  True]\n"
     ]
    }
   ],
   "source": [
    "# match features to scalar\n",
    "\n",
    "yuru_input = yuru_data_set.filter(regex=r'^(Neu\\.|Memb\\.)')\n",
    "\n",
    "# Get columns in scaler but not in reordered input\n",
    "missing_in_input = set(loaded_scaler.feature_names_in_) - set(yuru_input.columns)\n",
    "# Get columns in reordered input but not in scaler\n",
    "extra_in_input = set(yuru_input.columns) - set(loaded_scaler.feature_names_in_)\n",
    "\n",
    "print(\"Features in scaler but missing in input:\", missing_in_input)\n",
    "print(\"Features in input but missing in scaler:\", extra_in_input)\n",
    "\n",
    "yuru_input = yuru_input.drop(columns=list(extra_in_input), axis=1)\n",
    "\n",
    "print(loaded_scaler.feature_names_in_ == yuru_input.columns)"
   ]
  },
  {
   "cell_type": "code",
   "execution_count": 54,
   "id": "5e40e610-f7cf-4e46-9d67-1f2b1013dc9b",
   "metadata": {},
   "outputs": [
    {
     "name": "stdout",
     "output_type": "stream",
     "text": [
      "Columns containing NaN values: ['Memb.AreaShape_Area', 'Memb.AreaShape_BoundingBoxArea', 'Memb.AreaShape_Center_X', 'Memb.AreaShape_Center_Y', 'Memb.AreaShape_CentralMoment_0_0', 'Memb.AreaShape_CentralMoment_0_1', 'Memb.AreaShape_CentralMoment_0_2', 'Memb.AreaShape_CentralMoment_0_3', 'Memb.AreaShape_CentralMoment_1_0', 'Memb.AreaShape_CentralMoment_1_1', 'Memb.AreaShape_CentralMoment_1_2', 'Memb.AreaShape_CentralMoment_1_3', 'Memb.AreaShape_CentralMoment_2_0', 'Memb.AreaShape_CentralMoment_2_1', 'Memb.AreaShape_CentralMoment_2_2', 'Memb.AreaShape_CentralMoment_2_3', 'Memb.AreaShape_Compactness', 'Memb.AreaShape_ConvexArea', 'Memb.AreaShape_Eccentricity', 'Memb.AreaShape_EquivalentDiameter', 'Memb.AreaShape_Extent', 'Memb.AreaShape_FormFactor', 'Memb.AreaShape_HuMoment_0', 'Memb.AreaShape_HuMoment_1', 'Memb.AreaShape_HuMoment_2', 'Memb.AreaShape_HuMoment_3', 'Memb.AreaShape_HuMoment_4', 'Memb.AreaShape_HuMoment_5', 'Memb.AreaShape_HuMoment_6', 'Memb.AreaShape_InertiaTensorEigenvalues_0', 'Memb.AreaShape_InertiaTensorEigenvalues_1', 'Memb.AreaShape_InertiaTensor_0_0', 'Memb.AreaShape_InertiaTensor_0_1', 'Memb.AreaShape_InertiaTensor_1_0', 'Memb.AreaShape_InertiaTensor_1_1', 'Memb.AreaShape_MajorAxisLength', 'Memb.AreaShape_MaxFeretDiameter', 'Memb.AreaShape_MaximumRadius', 'Memb.AreaShape_MeanRadius', 'Memb.AreaShape_MedianRadius', 'Memb.AreaShape_MinFeretDiameter', 'Memb.AreaShape_MinorAxisLength', 'Memb.AreaShape_NormalizedMoment_0_2', 'Memb.AreaShape_NormalizedMoment_0_3', 'Memb.AreaShape_NormalizedMoment_1_1', 'Memb.AreaShape_NormalizedMoment_1_2', 'Memb.AreaShape_NormalizedMoment_1_3', 'Memb.AreaShape_NormalizedMoment_2_0', 'Memb.AreaShape_NormalizedMoment_2_1', 'Memb.AreaShape_NormalizedMoment_2_2', 'Memb.AreaShape_NormalizedMoment_2_3', 'Memb.AreaShape_NormalizedMoment_3_0', 'Memb.AreaShape_NormalizedMoment_3_1', 'Memb.AreaShape_NormalizedMoment_3_2', 'Memb.AreaShape_NormalizedMoment_3_3', 'Memb.AreaShape_Orientation', 'Memb.AreaShape_Perimeter', 'Memb.AreaShape_Solidity', 'Memb.AreaShape_SpatialMoment_0_0', 'Memb.AreaShape_SpatialMoment_0_1', 'Memb.AreaShape_SpatialMoment_0_2', 'Memb.AreaShape_SpatialMoment_0_3', 'Memb.AreaShape_SpatialMoment_1_0', 'Memb.AreaShape_SpatialMoment_1_1', 'Memb.AreaShape_SpatialMoment_1_2', 'Memb.AreaShape_SpatialMoment_1_3', 'Memb.AreaShape_SpatialMoment_2_0', 'Memb.AreaShape_SpatialMoment_2_1', 'Memb.AreaShape_SpatialMoment_2_2', 'Memb.AreaShape_SpatialMoment_2_3', 'Memb.AreaShape_Zernike_0_0', 'Memb.AreaShape_Zernike_1_1', 'Memb.AreaShape_Zernike_2_0', 'Memb.AreaShape_Zernike_2_2', 'Memb.AreaShape_Zernike_3_1', 'Memb.AreaShape_Zernike_3_3', 'Memb.AreaShape_Zernike_4_0', 'Memb.AreaShape_Zernike_4_2', 'Memb.AreaShape_Zernike_4_4', 'Memb.AreaShape_Zernike_5_1', 'Memb.AreaShape_Zernike_5_3', 'Memb.AreaShape_Zernike_5_5', 'Memb.AreaShape_Zernike_6_0', 'Memb.AreaShape_Zernike_6_2', 'Memb.AreaShape_Zernike_6_4', 'Memb.AreaShape_Zernike_6_6', 'Memb.AreaShape_Zernike_7_1', 'Memb.AreaShape_Zernike_7_3', 'Memb.AreaShape_Zernike_7_5', 'Memb.AreaShape_Zernike_7_7', 'Memb.AreaShape_Zernike_8_0', 'Memb.AreaShape_Zernike_8_2', 'Memb.AreaShape_Zernike_8_4', 'Memb.AreaShape_Zernike_8_6', 'Memb.AreaShape_Zernike_8_8', 'Memb.AreaShape_Zernike_9_1', 'Memb.AreaShape_Zernike_9_3', 'Memb.AreaShape_Zernike_9_5', 'Memb.AreaShape_Zernike_9_7', 'Memb.AreaShape_Zernike_9_9', 'Memb.Location_Center_X', 'Memb.Location_Center_Y']\n",
      "Indices of rows containing NaN values in specified columns: [0, 1, 2, 5, 32, 91, 101, 103, 146, 147, 200, 201, 244, 319, 350, 407, 447]\n",
      "0      4198.0\n",
      "1      4025.0\n",
      "2      4945.0\n",
      "3      6059.0\n",
      "4      4760.0\n",
      "        ...  \n",
      "450    1835.0\n",
      "451    5394.0\n",
      "452    2547.0\n",
      "453    2961.0\n",
      "454    3435.0\n",
      "Name: Memb.AreaShape_Area, Length: 455, dtype: float64\n"
     ]
    }
   ],
   "source": [
    "# double check nan values\n",
    "columns_containing_nan = yuru_input.columns[yuru_input.isna().any()].tolist()\n",
    "print(\"Columns containing NaN values:\", columns_containing_nan)\n",
    "\n",
    "\n",
    "# Select rows that contain NaN values in the specified columns\n",
    "rows_with_nan = yuru_input[columns_containing_nan].isna().any(axis=1)\n",
    "\n",
    "# Get the indices of rows that contain NaN values\n",
    "rows_with_nan_indices = yuru_input.index[rows_with_nan].tolist()\n",
    "\n",
    "print(\"Indices of rows containing NaN values in specified columns:\", rows_with_nan_indices)\n",
    "\n",
    "# Define the list of row indices to drop\n",
    "rows_to_drop = [0, 1, 2, 5, 32, 91, 101, 103, 146, 147, 200, 201, 244, 319, 350, 407, 447]\n",
    "\n",
    "# Drop the specified rows and reset the index\n",
    "yuru_input = yuru_input.drop(index=rows_to_drop).reset_index(drop=True)\n",
    "\n",
    "print(yuru_input[\"Memb.AreaShape_Area\"])"
   ]
  },
  {
   "cell_type": "code",
   "execution_count": 55,
   "id": "9458cbb6-a6ea-4bd4-8688-8007329bd03e",
   "metadata": {},
   "outputs": [
    {
     "name": "stdout",
     "output_type": "stream",
     "text": [
      "[]\n"
     ]
    },
    {
     "name": "stderr",
     "output_type": "stream",
     "text": [
      "/home/tyoneyam/miniforge3/envs/jupyter_env/lib/python3.12/site-packages/sklearn/base.py:493: UserWarning: X does not have valid feature names, but StandardScaler was fitted with feature names\n",
      "  warnings.warn(\n"
     ]
    }
   ],
   "source": [
    "# prepare features\n",
    "\n",
    "X = yuru_input.values\n",
    "\n",
    "# apply scalar\n",
    "X_scaled = loaded_scaler.transform(X)\n",
    "\n",
    "# double check nan values\n",
    "columns_containing_nan = np.any(X_scaled == '', axis=0)\n",
    "print(np.where(columns_containing_nan)[0])\n",
    "\n",
    "# make prediction\n",
    "y_pred_loaded = loaded_model.predict(X_scaled)"
   ]
  },
  {
   "cell_type": "code",
   "execution_count": 57,
   "id": "348ba3e0-8013-4fec-b197-45ecf61b16c6",
   "metadata": {},
   "outputs": [
    {
     "ename": "ValueError",
     "evalue": "Found input variables with inconsistent numbers of samples: [4722, 455]",
     "output_type": "error",
     "traceback": [
      "\u001b[0;31m---------------------------------------------------------------------------\u001b[0m",
      "\u001b[0;31mValueError\u001b[0m                                Traceback (most recent call last)",
      "Cell \u001b[0;32mIn[57], line 4\u001b[0m\n\u001b[1;32m      1\u001b[0m \u001b[38;5;66;03m# visualize\u001b[39;00m\n\u001b[1;32m      2\u001b[0m \u001b[38;5;66;03m# C&P from Model 2: Loaded Yuru's Model\u001b[39;00m\n\u001b[1;32m      3\u001b[0m cell_treatments \u001b[38;5;241m=\u001b[39m np\u001b[38;5;241m.\u001b[39mdelete(final_combined_data[\u001b[38;5;124m'\u001b[39m\u001b[38;5;124mAnnotation\u001b[39m\u001b[38;5;124m'\u001b[39m]\u001b[38;5;241m.\u001b[39mvalues, rows_to_drop)\n\u001b[0;32m----> 4\u001b[0m cm \u001b[38;5;241m=\u001b[39m \u001b[43mconfusion_matrix\u001b[49m\u001b[43m(\u001b[49m\u001b[43mcell_treatments\u001b[49m\u001b[43m,\u001b[49m\u001b[43m \u001b[49m\u001b[43my_pred_loaded\u001b[49m\u001b[43m,\u001b[49m\u001b[43m \u001b[49m\u001b[43mlabels\u001b[49m\u001b[38;5;241;43m=\u001b[39;49m\u001b[43m[\u001b[49m\u001b[38;5;124;43m'\u001b[39;49m\u001b[38;5;124;43mE\u001b[39;49m\u001b[38;5;124;43m'\u001b[39;49m\u001b[43m,\u001b[49m\u001b[43m \u001b[49m\u001b[38;5;124;43m'\u001b[39;49m\u001b[38;5;124;43mM\u001b[39;49m\u001b[38;5;124;43m'\u001b[39;49m\u001b[43m]\u001b[49m\u001b[43m)\u001b[49m\n\u001b[1;32m      6\u001b[0m plt\u001b[38;5;241m.\u001b[39mfigure(figsize\u001b[38;5;241m=\u001b[39m(\u001b[38;5;241m8\u001b[39m, \u001b[38;5;241m6\u001b[39m))\n\u001b[1;32m      7\u001b[0m sns\u001b[38;5;241m.\u001b[39mheatmap(cm, annot\u001b[38;5;241m=\u001b[39m\u001b[38;5;28;01mTrue\u001b[39;00m, fmt\u001b[38;5;241m=\u001b[39m\u001b[38;5;124m'\u001b[39m\u001b[38;5;124md\u001b[39m\u001b[38;5;124m'\u001b[39m, cmap\u001b[38;5;241m=\u001b[39m\u001b[38;5;124m'\u001b[39m\u001b[38;5;124mBlues\u001b[39m\u001b[38;5;124m'\u001b[39m, xticklabels\u001b[38;5;241m=\u001b[39m[\u001b[38;5;124m'\u001b[39m\u001b[38;5;124mE\u001b[39m\u001b[38;5;124m'\u001b[39m, \u001b[38;5;124m'\u001b[39m\u001b[38;5;124mM\u001b[39m\u001b[38;5;124m'\u001b[39m], yticklabels\u001b[38;5;241m=\u001b[39m[\u001b[38;5;124m'\u001b[39m\u001b[38;5;124mE\u001b[39m\u001b[38;5;124m'\u001b[39m, \u001b[38;5;124m'\u001b[39m\u001b[38;5;124mM\u001b[39m\u001b[38;5;124m'\u001b[39m])\n",
      "File \u001b[0;32m~/miniforge3/envs/jupyter_env/lib/python3.12/site-packages/sklearn/utils/_param_validation.py:213\u001b[0m, in \u001b[0;36mvalidate_params.<locals>.decorator.<locals>.wrapper\u001b[0;34m(*args, **kwargs)\u001b[0m\n\u001b[1;32m    207\u001b[0m \u001b[38;5;28;01mtry\u001b[39;00m:\n\u001b[1;32m    208\u001b[0m     \u001b[38;5;28;01mwith\u001b[39;00m config_context(\n\u001b[1;32m    209\u001b[0m         skip_parameter_validation\u001b[38;5;241m=\u001b[39m(\n\u001b[1;32m    210\u001b[0m             prefer_skip_nested_validation \u001b[38;5;129;01mor\u001b[39;00m global_skip_validation\n\u001b[1;32m    211\u001b[0m         )\n\u001b[1;32m    212\u001b[0m     ):\n\u001b[0;32m--> 213\u001b[0m         \u001b[38;5;28;01mreturn\u001b[39;00m \u001b[43mfunc\u001b[49m\u001b[43m(\u001b[49m\u001b[38;5;241;43m*\u001b[39;49m\u001b[43margs\u001b[49m\u001b[43m,\u001b[49m\u001b[43m \u001b[49m\u001b[38;5;241;43m*\u001b[39;49m\u001b[38;5;241;43m*\u001b[39;49m\u001b[43mkwargs\u001b[49m\u001b[43m)\u001b[49m\n\u001b[1;32m    214\u001b[0m \u001b[38;5;28;01mexcept\u001b[39;00m InvalidParameterError \u001b[38;5;28;01mas\u001b[39;00m e:\n\u001b[1;32m    215\u001b[0m     \u001b[38;5;66;03m# When the function is just a wrapper around an estimator, we allow\u001b[39;00m\n\u001b[1;32m    216\u001b[0m     \u001b[38;5;66;03m# the function to delegate validation to the estimator, but we replace\u001b[39;00m\n\u001b[1;32m    217\u001b[0m     \u001b[38;5;66;03m# the name of the estimator by the name of the function in the error\u001b[39;00m\n\u001b[1;32m    218\u001b[0m     \u001b[38;5;66;03m# message to avoid confusion.\u001b[39;00m\n\u001b[1;32m    219\u001b[0m     msg \u001b[38;5;241m=\u001b[39m re\u001b[38;5;241m.\u001b[39msub(\n\u001b[1;32m    220\u001b[0m         \u001b[38;5;124mr\u001b[39m\u001b[38;5;124m\"\u001b[39m\u001b[38;5;124mparameter of \u001b[39m\u001b[38;5;124m\\\u001b[39m\u001b[38;5;124mw+ must be\u001b[39m\u001b[38;5;124m\"\u001b[39m,\n\u001b[1;32m    221\u001b[0m         \u001b[38;5;124mf\u001b[39m\u001b[38;5;124m\"\u001b[39m\u001b[38;5;124mparameter of \u001b[39m\u001b[38;5;132;01m{\u001b[39;00mfunc\u001b[38;5;241m.\u001b[39m\u001b[38;5;18m__qualname__\u001b[39m\u001b[38;5;132;01m}\u001b[39;00m\u001b[38;5;124m must be\u001b[39m\u001b[38;5;124m\"\u001b[39m,\n\u001b[1;32m    222\u001b[0m         \u001b[38;5;28mstr\u001b[39m(e),\n\u001b[1;32m    223\u001b[0m     )\n",
      "File \u001b[0;32m~/miniforge3/envs/jupyter_env/lib/python3.12/site-packages/sklearn/metrics/_classification.py:342\u001b[0m, in \u001b[0;36mconfusion_matrix\u001b[0;34m(y_true, y_pred, labels, sample_weight, normalize)\u001b[0m\n\u001b[1;32m    247\u001b[0m \u001b[38;5;129m@validate_params\u001b[39m(\n\u001b[1;32m    248\u001b[0m     {\n\u001b[1;32m    249\u001b[0m         \u001b[38;5;124m\"\u001b[39m\u001b[38;5;124my_true\u001b[39m\u001b[38;5;124m\"\u001b[39m: [\u001b[38;5;124m\"\u001b[39m\u001b[38;5;124marray-like\u001b[39m\u001b[38;5;124m\"\u001b[39m],\n\u001b[0;32m   (...)\u001b[0m\n\u001b[1;32m    258\u001b[0m     y_true, y_pred, \u001b[38;5;241m*\u001b[39m, labels\u001b[38;5;241m=\u001b[39m\u001b[38;5;28;01mNone\u001b[39;00m, sample_weight\u001b[38;5;241m=\u001b[39m\u001b[38;5;28;01mNone\u001b[39;00m, normalize\u001b[38;5;241m=\u001b[39m\u001b[38;5;28;01mNone\u001b[39;00m\n\u001b[1;32m    259\u001b[0m ):\n\u001b[1;32m    260\u001b[0m \u001b[38;5;250m    \u001b[39m\u001b[38;5;124;03m\"\"\"Compute confusion matrix to evaluate the accuracy of a classification.\u001b[39;00m\n\u001b[1;32m    261\u001b[0m \n\u001b[1;32m    262\u001b[0m \u001b[38;5;124;03m    By definition a confusion matrix :math:`C` is such that :math:`C_{i, j}`\u001b[39;00m\n\u001b[0;32m   (...)\u001b[0m\n\u001b[1;32m    340\u001b[0m \u001b[38;5;124;03m    (np.int64(0), np.int64(2), np.int64(1), np.int64(1))\u001b[39;00m\n\u001b[1;32m    341\u001b[0m \u001b[38;5;124;03m    \"\"\"\u001b[39;00m\n\u001b[0;32m--> 342\u001b[0m     y_type, y_true, y_pred \u001b[38;5;241m=\u001b[39m \u001b[43m_check_targets\u001b[49m\u001b[43m(\u001b[49m\u001b[43my_true\u001b[49m\u001b[43m,\u001b[49m\u001b[43m \u001b[49m\u001b[43my_pred\u001b[49m\u001b[43m)\u001b[49m\n\u001b[1;32m    343\u001b[0m     \u001b[38;5;28;01mif\u001b[39;00m y_type \u001b[38;5;129;01mnot\u001b[39;00m \u001b[38;5;129;01min\u001b[39;00m (\u001b[38;5;124m\"\u001b[39m\u001b[38;5;124mbinary\u001b[39m\u001b[38;5;124m\"\u001b[39m, \u001b[38;5;124m\"\u001b[39m\u001b[38;5;124mmulticlass\u001b[39m\u001b[38;5;124m\"\u001b[39m):\n\u001b[1;32m    344\u001b[0m         \u001b[38;5;28;01mraise\u001b[39;00m \u001b[38;5;167;01mValueError\u001b[39;00m(\u001b[38;5;124m\"\u001b[39m\u001b[38;5;132;01m%s\u001b[39;00m\u001b[38;5;124m is not supported\u001b[39m\u001b[38;5;124m\"\u001b[39m \u001b[38;5;241m%\u001b[39m y_type)\n",
      "File \u001b[0;32m~/miniforge3/envs/jupyter_env/lib/python3.12/site-packages/sklearn/metrics/_classification.py:103\u001b[0m, in \u001b[0;36m_check_targets\u001b[0;34m(y_true, y_pred)\u001b[0m\n\u001b[1;32m     76\u001b[0m \u001b[38;5;250m\u001b[39m\u001b[38;5;124;03m\"\"\"Check that y_true and y_pred belong to the same classification task.\u001b[39;00m\n\u001b[1;32m     77\u001b[0m \n\u001b[1;32m     78\u001b[0m \u001b[38;5;124;03mThis converts multiclass or binary types to a common shape, and raises a\u001b[39;00m\n\u001b[0;32m   (...)\u001b[0m\n\u001b[1;32m    100\u001b[0m \u001b[38;5;124;03my_pred : array or indicator matrix\u001b[39;00m\n\u001b[1;32m    101\u001b[0m \u001b[38;5;124;03m\"\"\"\u001b[39;00m\n\u001b[1;32m    102\u001b[0m xp, _ \u001b[38;5;241m=\u001b[39m get_namespace(y_true, y_pred)\n\u001b[0;32m--> 103\u001b[0m \u001b[43mcheck_consistent_length\u001b[49m\u001b[43m(\u001b[49m\u001b[43my_true\u001b[49m\u001b[43m,\u001b[49m\u001b[43m \u001b[49m\u001b[43my_pred\u001b[49m\u001b[43m)\u001b[49m\n\u001b[1;32m    104\u001b[0m type_true \u001b[38;5;241m=\u001b[39m type_of_target(y_true, input_name\u001b[38;5;241m=\u001b[39m\u001b[38;5;124m\"\u001b[39m\u001b[38;5;124my_true\u001b[39m\u001b[38;5;124m\"\u001b[39m)\n\u001b[1;32m    105\u001b[0m type_pred \u001b[38;5;241m=\u001b[39m type_of_target(y_pred, input_name\u001b[38;5;241m=\u001b[39m\u001b[38;5;124m\"\u001b[39m\u001b[38;5;124my_pred\u001b[39m\u001b[38;5;124m\"\u001b[39m)\n",
      "File \u001b[0;32m~/miniforge3/envs/jupyter_env/lib/python3.12/site-packages/sklearn/utils/validation.py:457\u001b[0m, in \u001b[0;36mcheck_consistent_length\u001b[0;34m(*arrays)\u001b[0m\n\u001b[1;32m    455\u001b[0m uniques \u001b[38;5;241m=\u001b[39m np\u001b[38;5;241m.\u001b[39munique(lengths)\n\u001b[1;32m    456\u001b[0m \u001b[38;5;28;01mif\u001b[39;00m \u001b[38;5;28mlen\u001b[39m(uniques) \u001b[38;5;241m>\u001b[39m \u001b[38;5;241m1\u001b[39m:\n\u001b[0;32m--> 457\u001b[0m     \u001b[38;5;28;01mraise\u001b[39;00m \u001b[38;5;167;01mValueError\u001b[39;00m(\n\u001b[1;32m    458\u001b[0m         \u001b[38;5;124m\"\u001b[39m\u001b[38;5;124mFound input variables with inconsistent numbers of samples: \u001b[39m\u001b[38;5;132;01m%r\u001b[39;00m\u001b[38;5;124m\"\u001b[39m\n\u001b[1;32m    459\u001b[0m         \u001b[38;5;241m%\u001b[39m [\u001b[38;5;28mint\u001b[39m(l) \u001b[38;5;28;01mfor\u001b[39;00m l \u001b[38;5;129;01min\u001b[39;00m lengths]\n\u001b[1;32m    460\u001b[0m     )\n",
      "\u001b[0;31mValueError\u001b[0m: Found input variables with inconsistent numbers of samples: [4722, 455]"
     ]
    }
   ],
   "source": [
    "# visualize\n",
    "# C&P from Model 2: Loaded Yuru's Model\n",
    "\n",
    "cell_treatments = final_combined_data['Annotation'].values # wrong\n",
    "cm = confusion_matrix(cell_treatments, y_pred_loaded, labels=['E', 'M'])\n",
    "\n",
    "plt.figure(figsize=(8, 6))\n",
    "sns.heatmap(cm, annot=True, fmt='d', cmap='Blues', xticklabels=['E', 'M'], yticklabels=['E', 'M'])\n",
    "plt.ylabel('Treatment')\n",
    "plt.xlabel('Prediction')\n",
    "plt.title('Cell Treatment vs. Prediction')\n",
    "\n",
    "precision_e = precision_score(cell_treatments, y_pred_loaded, pos_label='E', average='binary')\n",
    "recall_e = recall_score(cell_treatments, y_pred_loaded, pos_label='E', average='binary')\n",
    "f1_e = f1_score(cell_treatments, y_pred_loaded, pos_label='E', average='binary')\n",
    "\n",
    "plt.text(0.5, -0.1, f\"Precision (E): {precision_e:.5f}\", ha='center', va='top', transform=plt.gca().transAxes, fontsize=10)\n",
    "plt.text(0.5, -0.15, f\"Recall (E): {recall_e:.5f}\", ha='center', va='top', transform=plt.gca().transAxes, fontsize=10)\n",
    "plt.text(0.5, -0.2, f\"F1 Score (E): {f1_e:.5f}\", ha='center', va='top', transform=plt.gca().transAxes, fontsize=10)\n",
    "\n",
    "precision_m = precision_score(cell_treatments, y_pred_loaded, pos_label='M', average='binary')\n",
    "recall_m = recall_score(cell_treatments, y_pred_loaded, pos_label='M', average='binary')\n",
    "f1_m = f1_score(cell_treatments, y_pred_loaded, pos_label='M', average='binary')\n",
    "\n",
    "plt.text(0.5, -0.25, f\"Precision (M): {precision_m:.5f}\", ha='center'\n",
    ", va='top', transform=plt.gca().transAxes, fontsize=10)\n",
    "plt.text(0.5, -0.3, f\"Recall (M): {recall_m:.5f}\", ha='center', va='top', transform=plt.gca().transAxes, fontsize=10)\n",
    "plt.text(0.5, -0.35, f\"F1 Score (M): {f1_m:.5f}\", ha='center', va='top', transform=plt.gca().transAxes, fontsize=10)\n",
    "\n",
    "plt.show()\n",
    "plt.close()  # Free memory by closing figure"
   ]
  },
  {
   "cell_type": "code",
   "execution_count": null,
   "id": "e9a89017-06bc-4d20-a71c-a69049eb64c9",
   "metadata": {},
   "outputs": [],
   "source": [
    "# 可视化 PCA 结果\n",
    "# 创建一个新的 DataFrame 来存储 PCA 结果\n",
    "X_pca_df = pd.DataFrame(X_pca, columns=['PC1', 'PC2'])\n",
    "X_pca_df['Dataset'] = 'Original'  # 给原始数据添加标签\n",
    "X_new_pca_df = pd.DataFrame(X_new_pca, columns=['PC1', 'PC2'])\n",
    "X_new_pca_df['Dataset'] = 'New'  # 给新数据添加标签\n",
    "# 合并两个数据集\n",
    "pca_combined_df = pd.concat([X_pca_df, X_new_pca_df])\n",
    "# 绘制散点图\n",
    "plt.figure(figsize=(10, 6))\n",
    "sns.scatterplot(data=pca_combined_df, x='PC1', y='PC2', hue='Dataset', style='Dataset', s=100)\n",
    "plt.title('PCA Visualization of Original and New Data')\n",
    "plt.xlabel('Principal Component 1')\n",
    "plt.ylabel('Principal Component 2')\n",
    "plt.legend(title='Dataset')\n",
    "plt.grid(True)\n",
    "plt.show()import matplotlib.pyplot as plt\n",
    "import seaborn as sns\n",
    "# 可视化 PCA 结果\n",
    "# 创建一个新的 DataFrame 来存储 PCA 结果\n",
    "X_pca_df = pd.DataFrame(X_pca, columns=['PC1', 'PC2'])\n",
    "X_pca_df['Dataset'] = 'Original'  # 给原始数据添加标签\n",
    "X_new_pca_df = pd.DataFrame(X_new_pca, columns=['PC1', 'PC2'])\n",
    "X_new_pca_df['Dataset'] = 'New'  # 给新数据添加标签\n",
    "# 合并两个数据集\n",
    "pca_combined_df = pd.concat([X_pca_df, X_new_pca_df])\n",
    "# 绘制散点图\n",
    "plt.figure(figsize=(10, 6))\n",
    "sns.scatterplot(data=pca_combined_df, x='PC1', y='PC2', hue='Dataset', style='Dataset', s=100)\n",
    "plt.title('PCA Visualization of Original and New Data')\n",
    "plt.xlabel('Principal Component 1')\n",
    "plt.ylabel('Principal Component 2')\n",
    "plt.legend(title='Dataset')\n",
    "plt.grid(True)\n",
    "plt.show()"
   ]
  },
  {
   "cell_type": "markdown",
   "id": "62996fae-bde0-4ed1-bd96-80bd78fb152f",
   "metadata": {},
   "source": [
    "### Code by: Yuru Chen, Touma Yoneyama"
   ]
  }
 ],
 "metadata": {
  "kernelspec": {
   "display_name": "Python 3 (ipykernel)",
   "language": "python",
   "name": "python3"
  },
  "language_info": {
   "codemirror_mode": {
    "name": "ipython",
    "version": 3
   },
   "file_extension": ".py",
   "mimetype": "text/x-python",
   "name": "python",
   "nbconvert_exporter": "python",
   "pygments_lexer": "ipython3",
   "version": "3.12.7"
  }
 },
 "nbformat": 4,
 "nbformat_minor": 5
}
